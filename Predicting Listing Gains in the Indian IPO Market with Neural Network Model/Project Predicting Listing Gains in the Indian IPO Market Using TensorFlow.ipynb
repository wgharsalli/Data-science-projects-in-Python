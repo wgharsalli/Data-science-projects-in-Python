{
 "cells": [
  {
   "cell_type": "code",
   "execution_count": null,
   "metadata": {},
   "outputs": [],
   "source": [
    "#link for dat"
   ]
  },
  {
   "cell_type": "code",
   "execution_count": 3,
   "metadata": {},
   "outputs": [],
   "source": [
    "import numpy as np\n",
    "import pandas as pd\n",
    "import seaborn as sns\n",
    "import matplotlib.pyplot as plt\n",
    "import tensorflow as tf\n",
    "from tensorflow import keras\n",
    "from tensorflow.keras import layers\n",
    "from sklearn.model_selection import train_test_split"
   ]
  },
  {
   "cell_type": "code",
   "execution_count": 4,
   "metadata": {},
   "outputs": [],
   "source": [
    "df=pd.read_csv('Indian_IPO_Market_Data.csv')"
   ]
  },
  {
   "cell_type": "code",
   "execution_count": 5,
   "metadata": {},
   "outputs": [
    {
     "data": {
      "text/html": [
       "<div>\n",
       "<style scoped>\n",
       "    .dataframe tbody tr th:only-of-type {\n",
       "        vertical-align: middle;\n",
       "    }\n",
       "\n",
       "    .dataframe tbody tr th {\n",
       "        vertical-align: top;\n",
       "    }\n",
       "\n",
       "    .dataframe thead th {\n",
       "        text-align: right;\n",
       "    }\n",
       "</style>\n",
       "<table border=\"1\" class=\"dataframe\">\n",
       "  <thead>\n",
       "    <tr style=\"text-align: right;\">\n",
       "      <th></th>\n",
       "      <th>Date</th>\n",
       "      <th>IPOName</th>\n",
       "      <th>Issue_Size</th>\n",
       "      <th>Subscription_QIB</th>\n",
       "      <th>Subscription_HNI</th>\n",
       "      <th>Subscription_RII</th>\n",
       "      <th>Subscription_Total</th>\n",
       "      <th>Issue_Price</th>\n",
       "      <th>Listing_Gains_Percent</th>\n",
       "    </tr>\n",
       "  </thead>\n",
       "  <tbody>\n",
       "    <tr>\n",
       "      <th>0</th>\n",
       "      <td>03/02/10</td>\n",
       "      <td>Infinite Comp</td>\n",
       "      <td>189.80</td>\n",
       "      <td>48.44</td>\n",
       "      <td>106.02</td>\n",
       "      <td>11.08</td>\n",
       "      <td>43.22</td>\n",
       "      <td>165</td>\n",
       "      <td>11.82</td>\n",
       "    </tr>\n",
       "    <tr>\n",
       "      <th>1</th>\n",
       "      <td>08/02/10</td>\n",
       "      <td>Jubilant Food</td>\n",
       "      <td>328.70</td>\n",
       "      <td>59.39</td>\n",
       "      <td>51.95</td>\n",
       "      <td>3.79</td>\n",
       "      <td>31.11</td>\n",
       "      <td>145</td>\n",
       "      <td>-84.21</td>\n",
       "    </tr>\n",
       "    <tr>\n",
       "      <th>2</th>\n",
       "      <td>15/02/10</td>\n",
       "      <td>Syncom Health</td>\n",
       "      <td>56.25</td>\n",
       "      <td>0.99</td>\n",
       "      <td>16.60</td>\n",
       "      <td>6.25</td>\n",
       "      <td>5.17</td>\n",
       "      <td>75</td>\n",
       "      <td>17.13</td>\n",
       "    </tr>\n",
       "    <tr>\n",
       "      <th>3</th>\n",
       "      <td>15/02/10</td>\n",
       "      <td>Vascon Engineer</td>\n",
       "      <td>199.80</td>\n",
       "      <td>1.12</td>\n",
       "      <td>3.65</td>\n",
       "      <td>0.62</td>\n",
       "      <td>1.22</td>\n",
       "      <td>165</td>\n",
       "      <td>-11.28</td>\n",
       "    </tr>\n",
       "    <tr>\n",
       "      <th>4</th>\n",
       "      <td>19/02/10</td>\n",
       "      <td>Thangamayil</td>\n",
       "      <td>0.00</td>\n",
       "      <td>0.52</td>\n",
       "      <td>1.52</td>\n",
       "      <td>2.26</td>\n",
       "      <td>1.12</td>\n",
       "      <td>75</td>\n",
       "      <td>-5.20</td>\n",
       "    </tr>\n",
       "  </tbody>\n",
       "</table>\n",
       "</div>"
      ],
      "text/plain": [
       "      Date           IPOName  Issue_Size  Subscription_QIB  Subscription_HNI  \\\n",
       "0  03/02/10    Infinite Comp      189.80             48.44            106.02   \n",
       "1  08/02/10    Jubilant Food      328.70             59.39             51.95   \n",
       "2  15/02/10    Syncom Health       56.25              0.99             16.60   \n",
       "3  15/02/10  Vascon Engineer      199.80              1.12              3.65   \n",
       "4  19/02/10      Thangamayil        0.00              0.52              1.52   \n",
       "\n",
       "   Subscription_RII  Subscription_Total  Issue_Price  Listing_Gains_Percent  \n",
       "0             11.08               43.22          165                  11.82  \n",
       "1              3.79               31.11          145                 -84.21  \n",
       "2              6.25                5.17           75                  17.13  \n",
       "3              0.62                1.22          165                 -11.28  \n",
       "4              2.26                1.12           75                  -5.20  "
      ]
     },
     "execution_count": 5,
     "metadata": {},
     "output_type": "execute_result"
    }
   ],
   "source": [
    "df.head()"
   ]
  },
  {
   "cell_type": "code",
   "execution_count": 6,
   "metadata": {},
   "outputs": [
    {
     "data": {
      "text/plain": [
       "(319, 9)"
      ]
     },
     "execution_count": 6,
     "metadata": {},
     "output_type": "execute_result"
    }
   ],
   "source": [
    "df.shape"
   ]
  },
  {
   "cell_type": "code",
   "execution_count": 7,
   "metadata": {},
   "outputs": [
    {
     "name": "stdout",
     "output_type": "stream",
     "text": [
      "<class 'pandas.core.frame.DataFrame'>\n",
      "RangeIndex: 319 entries, 0 to 318\n",
      "Data columns (total 9 columns):\n",
      " #   Column                 Non-Null Count  Dtype  \n",
      "---  ------                 --------------  -----  \n",
      " 0   Date                   319 non-null    object \n",
      " 1   IPOName                319 non-null    object \n",
      " 2   Issue_Size             319 non-null    float64\n",
      " 3   Subscription_QIB       319 non-null    float64\n",
      " 4   Subscription_HNI       319 non-null    float64\n",
      " 5   Subscription_RII       319 non-null    float64\n",
      " 6   Subscription_Total     319 non-null    float64\n",
      " 7   Issue_Price            319 non-null    int64  \n",
      " 8   Listing_Gains_Percent  319 non-null    float64\n",
      "dtypes: float64(6), int64(1), object(2)\n",
      "memory usage: 22.6+ KB\n"
     ]
    }
   ],
   "source": [
    "df.info()"
   ]
  },
  {
   "cell_type": "code",
   "execution_count": 8,
   "metadata": {},
   "outputs": [
    {
     "data": {
      "text/plain": [
       "count    319.000000\n",
       "mean       4.742696\n",
       "std       47.650946\n",
       "min      -97.150000\n",
       "25%      -11.555000\n",
       "50%        1.810000\n",
       "75%       25.310000\n",
       "max      270.400000\n",
       "Name: Listing_Gains_Percent, dtype: float64"
      ]
     },
     "execution_count": 8,
     "metadata": {},
     "output_type": "execute_result"
    }
   ],
   "source": [
    "df['Listing_Gains_Percent'].describe()"
   ]
  },
  {
   "cell_type": "code",
   "execution_count": 9,
   "metadata": {},
   "outputs": [
    {
     "data": {
      "text/html": [
       "<div>\n",
       "<style scoped>\n",
       "    .dataframe tbody tr th:only-of-type {\n",
       "        vertical-align: middle;\n",
       "    }\n",
       "\n",
       "    .dataframe tbody tr th {\n",
       "        vertical-align: top;\n",
       "    }\n",
       "\n",
       "    .dataframe thead th {\n",
       "        text-align: right;\n",
       "    }\n",
       "</style>\n",
       "<table border=\"1\" class=\"dataframe\">\n",
       "  <thead>\n",
       "    <tr style=\"text-align: right;\">\n",
       "      <th></th>\n",
       "      <th>Issue_Size</th>\n",
       "      <th>Subscription_QIB</th>\n",
       "      <th>Subscription_HNI</th>\n",
       "      <th>Subscription_RII</th>\n",
       "      <th>Subscription_Total</th>\n",
       "      <th>Issue_Price</th>\n",
       "      <th>Listing_Gains_Percent</th>\n",
       "    </tr>\n",
       "  </thead>\n",
       "  <tbody>\n",
       "    <tr>\n",
       "      <th>count</th>\n",
       "      <td>319.000000</td>\n",
       "      <td>319.000000</td>\n",
       "      <td>319.000000</td>\n",
       "      <td>319.000000</td>\n",
       "      <td>319.000000</td>\n",
       "      <td>319.000000</td>\n",
       "      <td>319.000000</td>\n",
       "    </tr>\n",
       "    <tr>\n",
       "      <th>mean</th>\n",
       "      <td>1192.859969</td>\n",
       "      <td>25.684138</td>\n",
       "      <td>70.091379</td>\n",
       "      <td>8.561599</td>\n",
       "      <td>27.447147</td>\n",
       "      <td>375.128527</td>\n",
       "      <td>4.742696</td>\n",
       "    </tr>\n",
       "    <tr>\n",
       "      <th>std</th>\n",
       "      <td>2384.643786</td>\n",
       "      <td>40.716782</td>\n",
       "      <td>142.454416</td>\n",
       "      <td>14.508670</td>\n",
       "      <td>48.772203</td>\n",
       "      <td>353.897614</td>\n",
       "      <td>47.650946</td>\n",
       "    </tr>\n",
       "    <tr>\n",
       "      <th>min</th>\n",
       "      <td>0.000000</td>\n",
       "      <td>0.000000</td>\n",
       "      <td>0.000000</td>\n",
       "      <td>0.000000</td>\n",
       "      <td>0.000000</td>\n",
       "      <td>0.000000</td>\n",
       "      <td>-97.150000</td>\n",
       "    </tr>\n",
       "    <tr>\n",
       "      <th>25%</th>\n",
       "      <td>169.005000</td>\n",
       "      <td>1.150000</td>\n",
       "      <td>1.255000</td>\n",
       "      <td>1.275000</td>\n",
       "      <td>1.645000</td>\n",
       "      <td>119.000000</td>\n",
       "      <td>-11.555000</td>\n",
       "    </tr>\n",
       "    <tr>\n",
       "      <th>50%</th>\n",
       "      <td>496.250000</td>\n",
       "      <td>4.940000</td>\n",
       "      <td>5.070000</td>\n",
       "      <td>3.420000</td>\n",
       "      <td>4.930000</td>\n",
       "      <td>250.000000</td>\n",
       "      <td>1.810000</td>\n",
       "    </tr>\n",
       "    <tr>\n",
       "      <th>75%</th>\n",
       "      <td>1100.000000</td>\n",
       "      <td>34.635000</td>\n",
       "      <td>62.095000</td>\n",
       "      <td>8.605000</td>\n",
       "      <td>33.395000</td>\n",
       "      <td>536.000000</td>\n",
       "      <td>25.310000</td>\n",
       "    </tr>\n",
       "    <tr>\n",
       "      <th>max</th>\n",
       "      <td>21000.000000</td>\n",
       "      <td>215.450000</td>\n",
       "      <td>958.070000</td>\n",
       "      <td>119.440000</td>\n",
       "      <td>326.490000</td>\n",
       "      <td>2150.000000</td>\n",
       "      <td>270.400000</td>\n",
       "    </tr>\n",
       "  </tbody>\n",
       "</table>\n",
       "</div>"
      ],
      "text/plain": [
       "         Issue_Size  Subscription_QIB  Subscription_HNI  Subscription_RII  \\\n",
       "count    319.000000        319.000000        319.000000        319.000000   \n",
       "mean    1192.859969         25.684138         70.091379          8.561599   \n",
       "std     2384.643786         40.716782        142.454416         14.508670   \n",
       "min        0.000000          0.000000          0.000000          0.000000   \n",
       "25%      169.005000          1.150000          1.255000          1.275000   \n",
       "50%      496.250000          4.940000          5.070000          3.420000   \n",
       "75%     1100.000000         34.635000         62.095000          8.605000   \n",
       "max    21000.000000        215.450000        958.070000        119.440000   \n",
       "\n",
       "       Subscription_Total  Issue_Price  Listing_Gains_Percent  \n",
       "count          319.000000   319.000000             319.000000  \n",
       "mean            27.447147   375.128527               4.742696  \n",
       "std             48.772203   353.897614              47.650946  \n",
       "min              0.000000     0.000000             -97.150000  \n",
       "25%              1.645000   119.000000             -11.555000  \n",
       "50%              4.930000   250.000000               1.810000  \n",
       "75%             33.395000   536.000000              25.310000  \n",
       "max            326.490000  2150.000000             270.400000  "
      ]
     },
     "execution_count": 9,
     "metadata": {},
     "output_type": "execute_result"
    }
   ],
   "source": [
    "df.describe()"
   ]
  },
  {
   "cell_type": "code",
   "execution_count": 10,
   "metadata": {},
   "outputs": [],
   "source": [
    "df['profit']=df['Listing_Gains_Percent'].apply(lambda x: 1 if x>0 else 0)"
   ]
  },
  {
   "cell_type": "code",
   "execution_count": 11,
   "metadata": {},
   "outputs": [
    {
     "data": {
      "text/plain": [
       "1    0.545455\n",
       "0    0.454545\n",
       "Name: profit, dtype: float64"
      ]
     },
     "execution_count": 11,
     "metadata": {},
     "output_type": "execute_result"
    }
   ],
   "source": [
    "df['profit'].value_counts(normalize=True)"
   ]
  },
  {
   "cell_type": "code",
   "execution_count": 12,
   "metadata": {},
   "outputs": [
    {
     "data": {
      "text/plain": [
       "Date                     0\n",
       "IPOName                  0\n",
       "Issue_Size               0\n",
       "Subscription_QIB         0\n",
       "Subscription_HNI         0\n",
       "Subscription_RII         0\n",
       "Subscription_Total       0\n",
       "Issue_Price              0\n",
       "Listing_Gains_Percent    0\n",
       "profit                   0\n",
       "dtype: int64"
      ]
     },
     "execution_count": 12,
     "metadata": {},
     "output_type": "execute_result"
    }
   ],
   "source": [
    "df.isna().sum()"
   ]
  },
  {
   "cell_type": "code",
   "execution_count": 13,
   "metadata": {},
   "outputs": [],
   "source": [
    "corr=df.corr(numeric_only=True)"
   ]
  },
  {
   "cell_type": "code",
   "execution_count": 14,
   "metadata": {},
   "outputs": [
    {
     "data": {
      "text/html": [
       "<div>\n",
       "<style scoped>\n",
       "    .dataframe tbody tr th:only-of-type {\n",
       "        vertical-align: middle;\n",
       "    }\n",
       "\n",
       "    .dataframe tbody tr th {\n",
       "        vertical-align: top;\n",
       "    }\n",
       "\n",
       "    .dataframe thead th {\n",
       "        text-align: right;\n",
       "    }\n",
       "</style>\n",
       "<table border=\"1\" class=\"dataframe\">\n",
       "  <thead>\n",
       "    <tr style=\"text-align: right;\">\n",
       "      <th></th>\n",
       "      <th>Issue_Size</th>\n",
       "      <th>Subscription_QIB</th>\n",
       "      <th>Subscription_HNI</th>\n",
       "      <th>Subscription_RII</th>\n",
       "      <th>Subscription_Total</th>\n",
       "      <th>Issue_Price</th>\n",
       "      <th>Listing_Gains_Percent</th>\n",
       "      <th>profit</th>\n",
       "    </tr>\n",
       "  </thead>\n",
       "  <tbody>\n",
       "    <tr>\n",
       "      <th>Issue_Size</th>\n",
       "      <td>1.000000</td>\n",
       "      <td>-0.037724</td>\n",
       "      <td>-0.103484</td>\n",
       "      <td>-0.147791</td>\n",
       "      <td>-0.093351</td>\n",
       "      <td>0.364733</td>\n",
       "      <td>0.019782</td>\n",
       "      <td>0.004717</td>\n",
       "    </tr>\n",
       "    <tr>\n",
       "      <th>Subscription_QIB</th>\n",
       "      <td>-0.037724</td>\n",
       "      <td>1.000000</td>\n",
       "      <td>0.773933</td>\n",
       "      <td>0.437462</td>\n",
       "      <td>0.815785</td>\n",
       "      <td>0.188105</td>\n",
       "      <td>0.395864</td>\n",
       "      <td>0.323499</td>\n",
       "    </tr>\n",
       "    <tr>\n",
       "      <th>Subscription_HNI</th>\n",
       "      <td>-0.103484</td>\n",
       "      <td>0.773933</td>\n",
       "      <td>1.000000</td>\n",
       "      <td>0.622993</td>\n",
       "      <td>0.954816</td>\n",
       "      <td>0.037283</td>\n",
       "      <td>0.375127</td>\n",
       "      <td>0.271879</td>\n",
       "    </tr>\n",
       "    <tr>\n",
       "      <th>Subscription_RII</th>\n",
       "      <td>-0.147791</td>\n",
       "      <td>0.437462</td>\n",
       "      <td>0.622993</td>\n",
       "      <td>1.000000</td>\n",
       "      <td>0.718738</td>\n",
       "      <td>-0.072112</td>\n",
       "      <td>0.424873</td>\n",
       "      <td>0.240842</td>\n",
       "    </tr>\n",
       "    <tr>\n",
       "      <th>Subscription_Total</th>\n",
       "      <td>-0.093351</td>\n",
       "      <td>0.815785</td>\n",
       "      <td>0.954816</td>\n",
       "      <td>0.718738</td>\n",
       "      <td>1.000000</td>\n",
       "      <td>0.051174</td>\n",
       "      <td>0.410753</td>\n",
       "      <td>0.283340</td>\n",
       "    </tr>\n",
       "    <tr>\n",
       "      <th>Issue_Price</th>\n",
       "      <td>0.364733</td>\n",
       "      <td>0.188105</td>\n",
       "      <td>0.037283</td>\n",
       "      <td>-0.072112</td>\n",
       "      <td>0.051174</td>\n",
       "      <td>1.000000</td>\n",
       "      <td>0.017544</td>\n",
       "      <td>0.039548</td>\n",
       "    </tr>\n",
       "    <tr>\n",
       "      <th>Listing_Gains_Percent</th>\n",
       "      <td>0.019782</td>\n",
       "      <td>0.395864</td>\n",
       "      <td>0.375127</td>\n",
       "      <td>0.424873</td>\n",
       "      <td>0.410753</td>\n",
       "      <td>0.017544</td>\n",
       "      <td>1.000000</td>\n",
       "      <td>0.673510</td>\n",
       "    </tr>\n",
       "    <tr>\n",
       "      <th>profit</th>\n",
       "      <td>0.004717</td>\n",
       "      <td>0.323499</td>\n",
       "      <td>0.271879</td>\n",
       "      <td>0.240842</td>\n",
       "      <td>0.283340</td>\n",
       "      <td>0.039548</td>\n",
       "      <td>0.673510</td>\n",
       "      <td>1.000000</td>\n",
       "    </tr>\n",
       "  </tbody>\n",
       "</table>\n",
       "</div>"
      ],
      "text/plain": [
       "                       Issue_Size  Subscription_QIB  Subscription_HNI  \\\n",
       "Issue_Size               1.000000         -0.037724         -0.103484   \n",
       "Subscription_QIB        -0.037724          1.000000          0.773933   \n",
       "Subscription_HNI        -0.103484          0.773933          1.000000   \n",
       "Subscription_RII        -0.147791          0.437462          0.622993   \n",
       "Subscription_Total      -0.093351          0.815785          0.954816   \n",
       "Issue_Price              0.364733          0.188105          0.037283   \n",
       "Listing_Gains_Percent    0.019782          0.395864          0.375127   \n",
       "profit                   0.004717          0.323499          0.271879   \n",
       "\n",
       "                       Subscription_RII  Subscription_Total  Issue_Price  \\\n",
       "Issue_Size                    -0.147791           -0.093351     0.364733   \n",
       "Subscription_QIB               0.437462            0.815785     0.188105   \n",
       "Subscription_HNI               0.622993            0.954816     0.037283   \n",
       "Subscription_RII               1.000000            0.718738    -0.072112   \n",
       "Subscription_Total             0.718738            1.000000     0.051174   \n",
       "Issue_Price                   -0.072112            0.051174     1.000000   \n",
       "Listing_Gains_Percent          0.424873            0.410753     0.017544   \n",
       "profit                         0.240842            0.283340     0.039548   \n",
       "\n",
       "                       Listing_Gains_Percent    profit  \n",
       "Issue_Size                          0.019782  0.004717  \n",
       "Subscription_QIB                    0.395864  0.323499  \n",
       "Subscription_HNI                    0.375127  0.271879  \n",
       "Subscription_RII                    0.424873  0.240842  \n",
       "Subscription_Total                  0.410753  0.283340  \n",
       "Issue_Price                         0.017544  0.039548  \n",
       "Listing_Gains_Percent               1.000000  0.673510  \n",
       "profit                              0.673510  1.000000  "
      ]
     },
     "execution_count": 14,
     "metadata": {},
     "output_type": "execute_result"
    }
   ],
   "source": [
    "corr"
   ]
  },
  {
   "cell_type": "code",
   "execution_count": 15,
   "metadata": {},
   "outputs": [],
   "source": [
    "df.drop(['Issue_Size', 'Issue_Price', 'IPOName'], axis=1, inplace=True)"
   ]
  },
  {
   "cell_type": "code",
   "execution_count": 16,
   "metadata": {},
   "outputs": [
    {
     "data": {
      "text/html": [
       "<div>\n",
       "<style scoped>\n",
       "    .dataframe tbody tr th:only-of-type {\n",
       "        vertical-align: middle;\n",
       "    }\n",
       "\n",
       "    .dataframe tbody tr th {\n",
       "        vertical-align: top;\n",
       "    }\n",
       "\n",
       "    .dataframe thead th {\n",
       "        text-align: right;\n",
       "    }\n",
       "</style>\n",
       "<table border=\"1\" class=\"dataframe\">\n",
       "  <thead>\n",
       "    <tr style=\"text-align: right;\">\n",
       "      <th></th>\n",
       "      <th>Date</th>\n",
       "      <th>Subscription_QIB</th>\n",
       "      <th>Subscription_HNI</th>\n",
       "      <th>Subscription_RII</th>\n",
       "      <th>Subscription_Total</th>\n",
       "      <th>Listing_Gains_Percent</th>\n",
       "      <th>profit</th>\n",
       "    </tr>\n",
       "  </thead>\n",
       "  <tbody>\n",
       "    <tr>\n",
       "      <th>0</th>\n",
       "      <td>03/02/10</td>\n",
       "      <td>48.44</td>\n",
       "      <td>106.02</td>\n",
       "      <td>11.08</td>\n",
       "      <td>43.22</td>\n",
       "      <td>11.82</td>\n",
       "      <td>1</td>\n",
       "    </tr>\n",
       "    <tr>\n",
       "      <th>1</th>\n",
       "      <td>08/02/10</td>\n",
       "      <td>59.39</td>\n",
       "      <td>51.95</td>\n",
       "      <td>3.79</td>\n",
       "      <td>31.11</td>\n",
       "      <td>-84.21</td>\n",
       "      <td>0</td>\n",
       "    </tr>\n",
       "    <tr>\n",
       "      <th>2</th>\n",
       "      <td>15/02/10</td>\n",
       "      <td>0.99</td>\n",
       "      <td>16.60</td>\n",
       "      <td>6.25</td>\n",
       "      <td>5.17</td>\n",
       "      <td>17.13</td>\n",
       "      <td>1</td>\n",
       "    </tr>\n",
       "    <tr>\n",
       "      <th>3</th>\n",
       "      <td>15/02/10</td>\n",
       "      <td>1.12</td>\n",
       "      <td>3.65</td>\n",
       "      <td>0.62</td>\n",
       "      <td>1.22</td>\n",
       "      <td>-11.28</td>\n",
       "      <td>0</td>\n",
       "    </tr>\n",
       "    <tr>\n",
       "      <th>4</th>\n",
       "      <td>19/02/10</td>\n",
       "      <td>0.52</td>\n",
       "      <td>1.52</td>\n",
       "      <td>2.26</td>\n",
       "      <td>1.12</td>\n",
       "      <td>-5.20</td>\n",
       "      <td>0</td>\n",
       "    </tr>\n",
       "  </tbody>\n",
       "</table>\n",
       "</div>"
      ],
      "text/plain": [
       "      Date   Subscription_QIB  Subscription_HNI  Subscription_RII  \\\n",
       "0  03/02/10             48.44            106.02             11.08   \n",
       "1  08/02/10             59.39             51.95              3.79   \n",
       "2  15/02/10              0.99             16.60              6.25   \n",
       "3  15/02/10              1.12              3.65              0.62   \n",
       "4  19/02/10              0.52              1.52              2.26   \n",
       "\n",
       "   Subscription_Total  Listing_Gains_Percent  profit  \n",
       "0               43.22                  11.82       1  \n",
       "1               31.11                 -84.21       0  \n",
       "2                5.17                  17.13       1  \n",
       "3                1.22                 -11.28       0  \n",
       "4                1.12                  -5.20       0  "
      ]
     },
     "execution_count": 16,
     "metadata": {},
     "output_type": "execute_result"
    }
   ],
   "source": [
    "df.head()"
   ]
  },
  {
   "cell_type": "code",
   "execution_count": 17,
   "metadata": {},
   "outputs": [
    {
     "data": {
      "text/plain": [
       "(319, 7)"
      ]
     },
     "execution_count": 17,
     "metadata": {},
     "output_type": "execute_result"
    }
   ],
   "source": [
    "df.shape"
   ]
  },
  {
   "cell_type": "code",
   "execution_count": 18,
   "metadata": {},
   "outputs": [],
   "source": [
    "df.drop(columns=df.columns[0], axis=1, inplace=True)"
   ]
  },
  {
   "cell_type": "code",
   "execution_count": 19,
   "metadata": {},
   "outputs": [
    {
     "data": {
      "text/plain": [
       "(319, 6)"
      ]
     },
     "execution_count": 19,
     "metadata": {},
     "output_type": "execute_result"
    }
   ],
   "source": [
    "df.shape"
   ]
  },
  {
   "cell_type": "code",
   "execution_count": 20,
   "metadata": {},
   "outputs": [
    {
     "data": {
      "text/plain": [
       "[Text(0.5, 1.0, 'frequency profit')]"
      ]
     },
     "execution_count": 20,
     "metadata": {},
     "output_type": "execute_result"
    },
    {
     "data": {
      "image/png": "[encoded data removed]",
      "text/plain": [
       "<Figure size 640x480 with 1 Axes>"
      ]
     },
     "metadata": {},
     "output_type": "display_data"
    }
   ],
   "source": [
    "sns.countplot(data=df, x='profit').set(title='frequency profit')"
   ]
  },
  {
   "cell_type": "code",
   "execution_count": 21,
   "metadata": {},
   "outputs": [
    {
     "data": {
      "text/plain": [
       "<AxesSubplot: xlabel='Subscription_QIB'>"
      ]
     },
     "execution_count": 21,
     "metadata": {},
     "output_type": "execute_result"
    },
    {
     "data": {
      "image/png": "[encoded data removed]",
      "text/plain": [
       "<Figure size 640x480 with 1 Axes>"
      ]
     },
     "metadata": {},
     "output_type": "display_data"
    }
   ],
   "source": [
    "sns.boxplot(data=df, x='Subscription_QIB')"
   ]
  },
  {
   "cell_type": "code",
   "execution_count": 22,
   "metadata": {},
   "outputs": [
    {
     "data": {
      "text/plain": [
       "<AxesSubplot: xlabel='Subscription_HNI'>"
      ]
     },
     "execution_count": 22,
     "metadata": {},
     "output_type": "execute_result"
    },
    {
     "data": {
      "image/png": "[encoded data removed]",
      "text/plain": [
       "<Figure size 640x480 with 1 Axes>"
      ]
     },
     "metadata": {},
     "output_type": "display_data"
    }
   ],
   "source": [
    "sns.boxplot(data=df, x='Subscription_HNI')"
   ]
  },
  {
   "cell_type": "code",
   "execution_count": 23,
   "metadata": {},
   "outputs": [
    {
     "data": {
      "text/plain": [
       "<AxesSubplot: xlabel='Subscription_RII'>"
      ]
     },
     "execution_count": 23,
     "metadata": {},
     "output_type": "execute_result"
    },
    {
     "data": {
      "image/png": "[encoded data removed]",
      "text/plain": [
       "<Figure size 640x480 with 1 Axes>"
      ]
     },
     "metadata": {},
     "output_type": "display_data"
    }
   ],
   "source": [
    "sns.boxplot(data=df, x='Subscription_RII')"
   ]
  },
  {
   "cell_type": "code",
   "execution_count": 24,
   "metadata": {},
   "outputs": [
    {
     "data": {
      "text/plain": [
       "<AxesSubplot: xlabel='profit', ylabel='Subscription_Total'>"
      ]
     },
     "execution_count": 24,
     "metadata": {},
     "output_type": "execute_result"
    },
    {
     "data": {
      "image/png": "[encoded data removed]",
      "text/plain": [
       "<Figure size 640x480 with 1 Axes>"
      ]
     },
     "metadata": {},
     "output_type": "display_data"
    }
   ],
   "source": [
    "sns.boxplot(data=df, y='Subscription_Total', x='profit')"
   ]
  },
  {
   "cell_type": "code",
   "execution_count": 25,
   "metadata": {},
   "outputs": [
    {
     "data": {
      "text/plain": [
       "<AxesSubplot: xlabel='profit', ylabel='Subscription_Total'>"
      ]
     },
     "execution_count": 25,
     "metadata": {},
     "output_type": "execute_result"
    },
    {
     "data": {
      "image/png": "[encoded data removed]",
      "text/plain": [
       "<Figure size 640x480 with 1 Axes>"
      ]
     },
     "metadata": {},
     "output_type": "display_data"
    }
   ],
   "source": [
    "sns.scatterplot(data=df, y='Subscription_Total', x='profit')"
   ]
  },
  {
   "cell_type": "code",
   "execution_count": 26,
   "metadata": {},
   "outputs": [
    {
     "data": {
      "text/plain": [
       "<matplotlib.image.AxesImage at 0x7fac9e89cbb0>"
      ]
     },
     "execution_count": 26,
     "metadata": {},
     "output_type": "execute_result"
    },
    {
     "data": {
      "image/png": "[encoded data removed]",
      "text/plain": [
       "<Figure size 480x480 with 1 Axes>"
      ]
     },
     "metadata": {},
     "output_type": "display_data"
    }
   ],
   "source": [
    "plt.matshow(corr)"
   ]
  },
  {
   "cell_type": "code",
   "execution_count": 27,
   "metadata": {},
   "outputs": [
    {
     "data": {
      "text/plain": [
       "<AxesSubplot: >"
      ]
     },
     "execution_count": 27,
     "metadata": {},
     "output_type": "execute_result"
    },
    {
     "data": {
      "image/png": "[encoded data removed]",
      "text/plain": [
       "<Figure size 640x480 with 2 Axes>"
      ]
     },
     "metadata": {},
     "output_type": "display_data"
    }
   ],
   "source": [
    "sns.heatmap(corr, annot=True)"
   ]
  },
  {
   "cell_type": "code",
   "execution_count": 28,
   "metadata": {},
   "outputs": [],
   "source": [
    "var_out=['Subscription_QIB', 'Subscription_HNI', 'Subscription_RII', 'Subscription_Total']"
   ]
  },
  {
   "cell_type": "code",
   "execution_count": 29,
   "metadata": {},
   "outputs": [],
   "source": [
    "for c in var_out:\n",
    "    q1=df[c].quantile(0.25)\n",
    "    q3=df[c].quantile(0.75)\n",
    "    iqr=q3-q1\n",
    "    upper=q3+1.5*iqr\n",
    "    lower=q1-1.5*iqr\n",
    "    df[c]=df[c].apply(lambda x: lower if x<lower else x)\n",
    "    df[c]=df[c].apply(lambda x: upper if x>upper else x)"
   ]
  },
  {
   "cell_type": "code",
   "execution_count": 30,
   "metadata": {},
   "outputs": [
    {
     "data": {
      "text/plain": [
       "<AxesSubplot: xlabel='Subscription_QIB'>"
      ]
     },
     "execution_count": 30,
     "metadata": {},
     "output_type": "execute_result"
    },
    {
     "data": {
      "image/png": "[encoded data removed]",
      "text/plain": [
       "<Figure size 640x480 with 1 Axes>"
      ]
     },
     "metadata": {},
     "output_type": "display_data"
    }
   ],
   "source": [
    "sns.boxplot(data=df, x='Subscription_QIB')"
   ]
  },
  {
   "cell_type": "code",
   "execution_count": 31,
   "metadata": {},
   "outputs": [],
   "source": [
    "df.drop('Listing_Gains_Percent', axis=1, inplace=True)"
   ]
  },
  {
   "cell_type": "code",
   "execution_count": 32,
   "metadata": {},
   "outputs": [],
   "source": [
    "target=['profit']\n",
    "predictors=list(set(list(df.columns))-set(target))\n"
   ]
  },
  {
   "cell_type": "code",
   "execution_count": 33,
   "metadata": {},
   "outputs": [],
   "source": [
    "df[predictors]=df[predictors]/df[predictors].max()"
   ]
  },
  {
   "cell_type": "code",
   "execution_count": 34,
   "metadata": {},
   "outputs": [
    {
     "data": {
      "text/html": [
       "<div>\n",
       "<style scoped>\n",
       "    .dataframe tbody tr th:only-of-type {\n",
       "        vertical-align: middle;\n",
       "    }\n",
       "\n",
       "    .dataframe tbody tr th {\n",
       "        vertical-align: top;\n",
       "    }\n",
       "\n",
       "    .dataframe thead th {\n",
       "        text-align: right;\n",
       "    }\n",
       "</style>\n",
       "<table border=\"1\" class=\"dataframe\">\n",
       "  <thead>\n",
       "    <tr style=\"text-align: right;\">\n",
       "      <th></th>\n",
       "      <th>Subscription_QIB</th>\n",
       "      <th>Subscription_HNI</th>\n",
       "      <th>Subscription_RII</th>\n",
       "      <th>Subscription_Total</th>\n",
       "      <th>profit</th>\n",
       "    </tr>\n",
       "  </thead>\n",
       "  <tbody>\n",
       "    <tr>\n",
       "      <th>0</th>\n",
       "      <td>0.570806</td>\n",
       "      <td>0.691337</td>\n",
       "      <td>0.565306</td>\n",
       "      <td>0.533449</td>\n",
       "      <td>1</td>\n",
       "    </tr>\n",
       "    <tr>\n",
       "      <th>1</th>\n",
       "      <td>0.699838</td>\n",
       "      <td>0.338756</td>\n",
       "      <td>0.193367</td>\n",
       "      <td>0.383979</td>\n",
       "      <td>0</td>\n",
       "    </tr>\n",
       "    <tr>\n",
       "      <th>2</th>\n",
       "      <td>0.011666</td>\n",
       "      <td>0.108246</td>\n",
       "      <td>0.318878</td>\n",
       "      <td>0.063811</td>\n",
       "      <td>1</td>\n",
       "    </tr>\n",
       "    <tr>\n",
       "      <th>3</th>\n",
       "      <td>0.013198</td>\n",
       "      <td>0.023801</td>\n",
       "      <td>0.031633</td>\n",
       "      <td>0.015058</td>\n",
       "      <td>0</td>\n",
       "    </tr>\n",
       "    <tr>\n",
       "      <th>4</th>\n",
       "      <td>0.006128</td>\n",
       "      <td>0.009912</td>\n",
       "      <td>0.115306</td>\n",
       "      <td>0.013824</td>\n",
       "      <td>0</td>\n",
       "    </tr>\n",
       "  </tbody>\n",
       "</table>\n",
       "</div>"
      ],
      "text/plain": [
       "   Subscription_QIB  Subscription_HNI  Subscription_RII  Subscription_Total  \\\n",
       "0          0.570806          0.691337          0.565306            0.533449   \n",
       "1          0.699838          0.338756          0.193367            0.383979   \n",
       "2          0.011666          0.108246          0.318878            0.063811   \n",
       "3          0.013198          0.023801          0.031633            0.015058   \n",
       "4          0.006128          0.009912          0.115306            0.013824   \n",
       "\n",
       "   profit  \n",
       "0       1  \n",
       "1       0  \n",
       "2       1  \n",
       "3       0  \n",
       "4       0  "
      ]
     },
     "execution_count": 34,
     "metadata": {},
     "output_type": "execute_result"
    }
   ],
   "source": [
    "df.head()"
   ]
  },
  {
   "cell_type": "code",
   "execution_count": 35,
   "metadata": {},
   "outputs": [
    {
     "data": {
      "text/html": [
       "<div>\n",
       "<style scoped>\n",
       "    .dataframe tbody tr th:only-of-type {\n",
       "        vertical-align: middle;\n",
       "    }\n",
       "\n",
       "    .dataframe tbody tr th {\n",
       "        vertical-align: top;\n",
       "    }\n",
       "\n",
       "    .dataframe thead th {\n",
       "        text-align: right;\n",
       "    }\n",
       "</style>\n",
       "<table border=\"1\" class=\"dataframe\">\n",
       "  <thead>\n",
       "    <tr style=\"text-align: right;\">\n",
       "      <th></th>\n",
       "      <th>Subscription_QIB</th>\n",
       "      <th>Subscription_HNI</th>\n",
       "      <th>Subscription_RII</th>\n",
       "      <th>Subscription_Total</th>\n",
       "      <th>profit</th>\n",
       "    </tr>\n",
       "  </thead>\n",
       "  <tbody>\n",
       "    <tr>\n",
       "      <th>count</th>\n",
       "      <td>319.000000</td>\n",
       "      <td>319.000000</td>\n",
       "      <td>319.000000</td>\n",
       "      <td>319.000000</td>\n",
       "      <td>319.000000</td>\n",
       "    </tr>\n",
       "    <tr>\n",
       "      <th>mean</th>\n",
       "      <td>0.253601</td>\n",
       "      <td>0.263157</td>\n",
       "      <td>0.309232</td>\n",
       "      <td>0.252489</td>\n",
       "      <td>0.545455</td>\n",
       "    </tr>\n",
       "    <tr>\n",
       "      <th>std</th>\n",
       "      <td>0.342961</td>\n",
       "      <td>0.374477</td>\n",
       "      <td>0.315147</td>\n",
       "      <td>0.335939</td>\n",
       "      <td>0.498712</td>\n",
       "    </tr>\n",
       "    <tr>\n",
       "      <th>min</th>\n",
       "      <td>0.000000</td>\n",
       "      <td>0.000000</td>\n",
       "      <td>0.000000</td>\n",
       "      <td>0.000000</td>\n",
       "      <td>0.000000</td>\n",
       "    </tr>\n",
       "    <tr>\n",
       "      <th>25%</th>\n",
       "      <td>0.013551</td>\n",
       "      <td>0.008184</td>\n",
       "      <td>0.065051</td>\n",
       "      <td>0.020304</td>\n",
       "      <td>0.000000</td>\n",
       "    </tr>\n",
       "    <tr>\n",
       "      <th>50%</th>\n",
       "      <td>0.058212</td>\n",
       "      <td>0.033061</td>\n",
       "      <td>0.174490</td>\n",
       "      <td>0.060849</td>\n",
       "      <td>1.000000</td>\n",
       "    </tr>\n",
       "    <tr>\n",
       "      <th>75%</th>\n",
       "      <td>0.408131</td>\n",
       "      <td>0.404910</td>\n",
       "      <td>0.439031</td>\n",
       "      <td>0.412182</td>\n",
       "      <td>1.000000</td>\n",
       "    </tr>\n",
       "    <tr>\n",
       "      <th>max</th>\n",
       "      <td>1.000000</td>\n",
       "      <td>1.000000</td>\n",
       "      <td>1.000000</td>\n",
       "      <td>1.000000</td>\n",
       "      <td>1.000000</td>\n",
       "    </tr>\n",
       "  </tbody>\n",
       "</table>\n",
       "</div>"
      ],
      "text/plain": [
       "       Subscription_QIB  Subscription_HNI  Subscription_RII  \\\n",
       "count        319.000000        319.000000        319.000000   \n",
       "mean           0.253601          0.263157          0.309232   \n",
       "std            0.342961          0.374477          0.315147   \n",
       "min            0.000000          0.000000          0.000000   \n",
       "25%            0.013551          0.008184          0.065051   \n",
       "50%            0.058212          0.033061          0.174490   \n",
       "75%            0.408131          0.404910          0.439031   \n",
       "max            1.000000          1.000000          1.000000   \n",
       "\n",
       "       Subscription_Total      profit  \n",
       "count          319.000000  319.000000  \n",
       "mean             0.252489    0.545455  \n",
       "std              0.335939    0.498712  \n",
       "min              0.000000    0.000000  \n",
       "25%              0.020304    0.000000  \n",
       "50%              0.060849    1.000000  \n",
       "75%              0.412182    1.000000  \n",
       "max              1.000000    1.000000  "
      ]
     },
     "execution_count": 35,
     "metadata": {},
     "output_type": "execute_result"
    }
   ],
   "source": [
    "df.describe()"
   ]
  },
  {
   "cell_type": "code",
   "execution_count": 36,
   "metadata": {},
   "outputs": [],
   "source": [
    "X=df[predictors].values\n",
    "y=df[target].values"
   ]
  },
  {
   "cell_type": "code",
   "execution_count": 37,
   "metadata": {},
   "outputs": [],
   "source": [
    "X_train, X_test, y_train, y_test=train_test_split(X, y, test_size=0.3, random_state=50)"
   ]
  },
  {
   "cell_type": "code",
   "execution_count": 38,
   "metadata": {},
   "outputs": [
    {
     "name": "stdout",
     "output_type": "stream",
     "text": [
      "(223, 4) (96, 4)\n"
     ]
    }
   ],
   "source": [
    "print(X_train.shape, X_test.shape)"
   ]
  },
  {
   "cell_type": "code",
   "execution_count": 39,
   "metadata": {},
   "outputs": [
    {
     "name": "stdout",
     "output_type": "stream",
     "text": [
      "(223, 1) (96, 1)\n"
     ]
    }
   ],
   "source": [
    "print(y_train.shape, y_test.shape)"
   ]
  },
  {
   "cell_type": "code",
   "execution_count": 40,
   "metadata": {},
   "outputs": [],
   "source": [
    "model=tf.keras.Sequential()\n",
    "model.add(tf.keras.layers.Dense(32, input_shape=(X_train.shape[1],), activation='relu'))\n",
    "model.add(tf.keras.layers.Dense(16, activation='relu'))\n",
    "model.add(tf.keras.layers.Dense(8, activation='relu'))\n",
    "model.add(tf.keras.layers.Dense(4, activation='relu'))\n",
    "model.add(tf.keras.layers.Dense(1, activation='sigmoid'))\n",
    "\n"
   ]
  },
  {
   "cell_type": "code",
   "execution_count": 42,
   "metadata": {},
   "outputs": [],
   "source": [
    "optimizer=tf.keras.optimizers.Adam(0.1)\n",
    "model.compile(loss=tf.keras.losses.BinaryCrossentropy(), metrics='accuracy', optimizer=optimizer)"
   ]
  },
  {
   "cell_type": "code",
   "execution_count": 89,
   "metadata": {},
   "outputs": [
    {
     "name": "stdout",
     "output_type": "stream",
     "text": [
      "Model: \"sequential_2\"\n",
      "_________________________________________________________________\n",
      " Layer (type)                Output Shape              Param #   \n",
      "=================================================================\n",
      " dense_9 (Dense)             (None, 32)                160       \n",
      "                                                                 \n",
      " dense_10 (Dense)            (None, 16)                528       \n",
      "                                                                 \n",
      " dense_11 (Dense)            (None, 8)                 136       \n",
      "                                                                 \n",
      " dense_12 (Dense)            (None, 4)                 36        \n",
      "                                                                 \n",
      " dense_13 (Dense)            (None, 1)                 5         \n",
      "                                                                 \n",
      "=================================================================\n",
      "Total params: 865\n",
      "Trainable params: 865\n",
      "Non-trainable params: 0\n",
      "_________________________________________________________________\n",
      "None\n"
     ]
    }
   ],
   "source": [
    "print(model.summary())"
   ]
  },
  {
   "cell_type": "code",
   "execution_count": 43,
   "metadata": {},
   "outputs": [
    {
     "data": {
      "text/plain": [
       "<keras.callbacks.History at 0x7fac9c520c10>"
      ]
     },
     "execution_count": 43,
     "metadata": {},
     "output_type": "execute_result"
    }
   ],
   "source": [
    "model.fit(X_train, y_train, epochs=150, verbose=0)"
   ]
  },
  {
   "cell_type": "code",
   "execution_count": 44,
   "metadata": {},
   "outputs": [
    {
     "name": "stdout",
     "output_type": "stream",
     "text": [
      "7/7 [==============================] - 0s 1ms/step - loss: 0.5662 - accuracy: 0.7399\n",
      "3/3 [==============================] - 0s 2ms/step - loss: 0.6481 - accuracy: 0.6667\n"
     ]
    },
    {
     "data": {
      "text/plain": [
       "[0.648144543170929, 0.6666666865348816]"
      ]
     },
     "execution_count": 44,
     "metadata": {},
     "output_type": "execute_result"
    }
   ],
   "source": [
    "model.evaluate(X_train, y_train)\n",
    "model.evaluate(X_test, y_test)\n"
   ]
  },
  {
   "cell_type": "code",
   "execution_count": 45,
   "metadata": {},
   "outputs": [
    {
     "name": "stdout",
     "output_type": "stream",
     "text": [
      "7/7 [==============================] - 0s 1ms/step\n",
      "3/3 [==============================] - 0s 2ms/step\n"
     ]
    }
   ],
   "source": [
    "y_predtr=model.predict(X_train)\n",
    "y_predte=model.predict(X_test)"
   ]
  },
  {
   "cell_type": "code",
   "execution_count": null,
   "metadata": {},
   "outputs": [],
   "source": []
  },
  {
   "cell_type": "code",
   "execution_count": null,
   "metadata": {},
   "outputs": [],
   "source": []
  }
 ],
 "metadata": {
  "kernelspec": {
   "display_name": "Python 3 (ipykernel)",
   "language": "python",
   "name": "python3"
  },
  "language_info": {
   "codemirror_mode": {
    "name": "ipython",
    "version": 3
   },
   "file_extension": ".py",
   "mimetype": "text/x-python",
   "name": "python",
   "nbconvert_exporter": "python",
   "pygments_lexer": "ipython3",
   "version": "3.10.6"
  }
 },
 "nbformat": 4,
 "nbformat_minor": 4
}
