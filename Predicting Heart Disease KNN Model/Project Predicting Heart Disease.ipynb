{
 "cells": [
  {
   "cell_type": "code",
   "execution_count": null,
   "metadata": {},
   "outputs": [],
   "source": [
    "#link for dataset\n",
    "#"
   ]
  },
  {
   "cell_type": "code",
   "execution_count": 3,
   "metadata": {},
   "outputs": [],
   "source": [
    "#In this project we'll use knn model for predicting heart disease"
   ]
  },
  {
   "cell_type": "code",
   "execution_count": 260,
   "metadata": {},
   "outputs": [],
   "source": [
    "import pandas as pd\n",
    "import matplotlib.pyplot as plt\n",
    "from sklearn.model_selection import train_test_split, GridSearchCV\n",
    "from sklearn.neighbors import KNeighborsClassifier\n",
    "from sklearn.metrics import accuracy_score\n",
    "import seaborn as sns"
   ]
  },
  {
   "cell_type": "code",
   "execution_count": 223,
   "metadata": {},
   "outputs": [],
   "source": [
    "df=pd.read_csv('heart_disease_prediction.csv')"
   ]
  },
  {
   "cell_type": "code",
   "execution_count": 10,
   "metadata": {},
   "outputs": [
    {
     "data": {
      "text/html": [
       "<div>\n",
       "<style scoped>\n",
       "    .dataframe tbody tr th:only-of-type {\n",
       "        vertical-align: middle;\n",
       "    }\n",
       "\n",
       "    .dataframe tbody tr th {\n",
       "        vertical-align: top;\n",
       "    }\n",
       "\n",
       "    .dataframe thead th {\n",
       "        text-align: right;\n",
       "    }\n",
       "</style>\n",
       "<table border=\"1\" class=\"dataframe\">\n",
       "  <thead>\n",
       "    <tr style=\"text-align: right;\">\n",
       "      <th></th>\n",
       "      <th>Age</th>\n",
       "      <th>Sex</th>\n",
       "      <th>ChestPainType</th>\n",
       "      <th>RestingBP</th>\n",
       "      <th>Cholesterol</th>\n",
       "      <th>FastingBS</th>\n",
       "      <th>RestingECG</th>\n",
       "      <th>MaxHR</th>\n",
       "      <th>ExerciseAngina</th>\n",
       "      <th>Oldpeak</th>\n",
       "      <th>ST_Slope</th>\n",
       "      <th>HeartDisease</th>\n",
       "    </tr>\n",
       "  </thead>\n",
       "  <tbody>\n",
       "    <tr>\n",
       "      <th>0</th>\n",
       "      <td>40</td>\n",
       "      <td>M</td>\n",
       "      <td>ATA</td>\n",
       "      <td>140</td>\n",
       "      <td>289</td>\n",
       "      <td>0</td>\n",
       "      <td>Normal</td>\n",
       "      <td>172</td>\n",
       "      <td>N</td>\n",
       "      <td>0.0</td>\n",
       "      <td>Up</td>\n",
       "      <td>0</td>\n",
       "    </tr>\n",
       "    <tr>\n",
       "      <th>1</th>\n",
       "      <td>49</td>\n",
       "      <td>F</td>\n",
       "      <td>NAP</td>\n",
       "      <td>160</td>\n",
       "      <td>180</td>\n",
       "      <td>0</td>\n",
       "      <td>Normal</td>\n",
       "      <td>156</td>\n",
       "      <td>N</td>\n",
       "      <td>1.0</td>\n",
       "      <td>Flat</td>\n",
       "      <td>1</td>\n",
       "    </tr>\n",
       "    <tr>\n",
       "      <th>2</th>\n",
       "      <td>37</td>\n",
       "      <td>M</td>\n",
       "      <td>ATA</td>\n",
       "      <td>130</td>\n",
       "      <td>283</td>\n",
       "      <td>0</td>\n",
       "      <td>ST</td>\n",
       "      <td>98</td>\n",
       "      <td>N</td>\n",
       "      <td>0.0</td>\n",
       "      <td>Up</td>\n",
       "      <td>0</td>\n",
       "    </tr>\n",
       "    <tr>\n",
       "      <th>3</th>\n",
       "      <td>48</td>\n",
       "      <td>F</td>\n",
       "      <td>ASY</td>\n",
       "      <td>138</td>\n",
       "      <td>214</td>\n",
       "      <td>0</td>\n",
       "      <td>Normal</td>\n",
       "      <td>108</td>\n",
       "      <td>Y</td>\n",
       "      <td>1.5</td>\n",
       "      <td>Flat</td>\n",
       "      <td>1</td>\n",
       "    </tr>\n",
       "    <tr>\n",
       "      <th>4</th>\n",
       "      <td>54</td>\n",
       "      <td>M</td>\n",
       "      <td>NAP</td>\n",
       "      <td>150</td>\n",
       "      <td>195</td>\n",
       "      <td>0</td>\n",
       "      <td>Normal</td>\n",
       "      <td>122</td>\n",
       "      <td>N</td>\n",
       "      <td>0.0</td>\n",
       "      <td>Up</td>\n",
       "      <td>0</td>\n",
       "    </tr>\n",
       "  </tbody>\n",
       "</table>\n",
       "</div>"
      ],
      "text/plain": [
       "   Age Sex ChestPainType  RestingBP  Cholesterol  FastingBS RestingECG  MaxHR  \\\n",
       "0   40   M           ATA        140          289          0     Normal    172   \n",
       "1   49   F           NAP        160          180          0     Normal    156   \n",
       "2   37   M           ATA        130          283          0         ST     98   \n",
       "3   48   F           ASY        138          214          0     Normal    108   \n",
       "4   54   M           NAP        150          195          0     Normal    122   \n",
       "\n",
       "  ExerciseAngina  Oldpeak ST_Slope  HeartDisease  \n",
       "0              N      0.0       Up             0  \n",
       "1              N      1.0     Flat             1  \n",
       "2              N      0.0       Up             0  \n",
       "3              Y      1.5     Flat             1  \n",
       "4              N      0.0       Up             0  "
      ]
     },
     "execution_count": 10,
     "metadata": {},
     "output_type": "execute_result"
    }
   ],
   "source": [
    "df.head()"
   ]
  },
  {
   "cell_type": "code",
   "execution_count": 11,
   "metadata": {},
   "outputs": [
    {
     "data": {
      "text/plain": [
       "(918, 12)"
      ]
     },
     "execution_count": 11,
     "metadata": {},
     "output_type": "execute_result"
    }
   ],
   "source": [
    "df.shape"
   ]
  },
  {
   "cell_type": "code",
   "execution_count": 12,
   "metadata": {},
   "outputs": [
    {
     "name": "stdout",
     "output_type": "stream",
     "text": [
      "<class 'pandas.core.frame.DataFrame'>\n",
      "RangeIndex: 918 entries, 0 to 917\n",
      "Data columns (total 12 columns):\n",
      " #   Column          Non-Null Count  Dtype  \n",
      "---  ------          --------------  -----  \n",
      " 0   Age             918 non-null    int64  \n",
      " 1   Sex             918 non-null    object \n",
      " 2   ChestPainType   918 non-null    object \n",
      " 3   RestingBP       918 non-null    int64  \n",
      " 4   Cholesterol     918 non-null    int64  \n",
      " 5   FastingBS       918 non-null    int64  \n",
      " 6   RestingECG      918 non-null    object \n",
      " 7   MaxHR           918 non-null    int64  \n",
      " 8   ExerciseAngina  918 non-null    object \n",
      " 9   Oldpeak         918 non-null    float64\n",
      " 10  ST_Slope        918 non-null    object \n",
      " 11  HeartDisease    918 non-null    int64  \n",
      "dtypes: float64(1), int64(6), object(5)\n",
      "memory usage: 86.2+ KB\n"
     ]
    }
   ],
   "source": [
    "df.info()"
   ]
  },
  {
   "cell_type": "code",
   "execution_count": 13,
   "metadata": {},
   "outputs": [
    {
     "data": {
      "text/html": [
       "<div>\n",
       "<style scoped>\n",
       "    .dataframe tbody tr th:only-of-type {\n",
       "        vertical-align: middle;\n",
       "    }\n",
       "\n",
       "    .dataframe tbody tr th {\n",
       "        vertical-align: top;\n",
       "    }\n",
       "\n",
       "    .dataframe thead th {\n",
       "        text-align: right;\n",
       "    }\n",
       "</style>\n",
       "<table border=\"1\" class=\"dataframe\">\n",
       "  <thead>\n",
       "    <tr style=\"text-align: right;\">\n",
       "      <th></th>\n",
       "      <th>Age</th>\n",
       "      <th>RestingBP</th>\n",
       "      <th>Cholesterol</th>\n",
       "      <th>FastingBS</th>\n",
       "      <th>MaxHR</th>\n",
       "      <th>Oldpeak</th>\n",
       "      <th>HeartDisease</th>\n",
       "    </tr>\n",
       "  </thead>\n",
       "  <tbody>\n",
       "    <tr>\n",
       "      <th>count</th>\n",
       "      <td>918.000000</td>\n",
       "      <td>918.000000</td>\n",
       "      <td>918.000000</td>\n",
       "      <td>918.000000</td>\n",
       "      <td>918.000000</td>\n",
       "      <td>918.000000</td>\n",
       "      <td>918.000000</td>\n",
       "    </tr>\n",
       "    <tr>\n",
       "      <th>mean</th>\n",
       "      <td>53.510893</td>\n",
       "      <td>132.396514</td>\n",
       "      <td>198.799564</td>\n",
       "      <td>0.233115</td>\n",
       "      <td>136.809368</td>\n",
       "      <td>0.887364</td>\n",
       "      <td>0.553377</td>\n",
       "    </tr>\n",
       "    <tr>\n",
       "      <th>std</th>\n",
       "      <td>9.432617</td>\n",
       "      <td>18.514154</td>\n",
       "      <td>109.384145</td>\n",
       "      <td>0.423046</td>\n",
       "      <td>25.460334</td>\n",
       "      <td>1.066570</td>\n",
       "      <td>0.497414</td>\n",
       "    </tr>\n",
       "    <tr>\n",
       "      <th>min</th>\n",
       "      <td>28.000000</td>\n",
       "      <td>0.000000</td>\n",
       "      <td>0.000000</td>\n",
       "      <td>0.000000</td>\n",
       "      <td>60.000000</td>\n",
       "      <td>-2.600000</td>\n",
       "      <td>0.000000</td>\n",
       "    </tr>\n",
       "    <tr>\n",
       "      <th>25%</th>\n",
       "      <td>47.000000</td>\n",
       "      <td>120.000000</td>\n",
       "      <td>173.250000</td>\n",
       "      <td>0.000000</td>\n",
       "      <td>120.000000</td>\n",
       "      <td>0.000000</td>\n",
       "      <td>0.000000</td>\n",
       "    </tr>\n",
       "    <tr>\n",
       "      <th>50%</th>\n",
       "      <td>54.000000</td>\n",
       "      <td>130.000000</td>\n",
       "      <td>223.000000</td>\n",
       "      <td>0.000000</td>\n",
       "      <td>138.000000</td>\n",
       "      <td>0.600000</td>\n",
       "      <td>1.000000</td>\n",
       "    </tr>\n",
       "    <tr>\n",
       "      <th>75%</th>\n",
       "      <td>60.000000</td>\n",
       "      <td>140.000000</td>\n",
       "      <td>267.000000</td>\n",
       "      <td>0.000000</td>\n",
       "      <td>156.000000</td>\n",
       "      <td>1.500000</td>\n",
       "      <td>1.000000</td>\n",
       "    </tr>\n",
       "    <tr>\n",
       "      <th>max</th>\n",
       "      <td>77.000000</td>\n",
       "      <td>200.000000</td>\n",
       "      <td>603.000000</td>\n",
       "      <td>1.000000</td>\n",
       "      <td>202.000000</td>\n",
       "      <td>6.200000</td>\n",
       "      <td>1.000000</td>\n",
       "    </tr>\n",
       "  </tbody>\n",
       "</table>\n",
       "</div>"
      ],
      "text/plain": [
       "              Age   RestingBP  Cholesterol   FastingBS       MaxHR  \\\n",
       "count  918.000000  918.000000   918.000000  918.000000  918.000000   \n",
       "mean    53.510893  132.396514   198.799564    0.233115  136.809368   \n",
       "std      9.432617   18.514154   109.384145    0.423046   25.460334   \n",
       "min     28.000000    0.000000     0.000000    0.000000   60.000000   \n",
       "25%     47.000000  120.000000   173.250000    0.000000  120.000000   \n",
       "50%     54.000000  130.000000   223.000000    0.000000  138.000000   \n",
       "75%     60.000000  140.000000   267.000000    0.000000  156.000000   \n",
       "max     77.000000  200.000000   603.000000    1.000000  202.000000   \n",
       "\n",
       "          Oldpeak  HeartDisease  \n",
       "count  918.000000    918.000000  \n",
       "mean     0.887364      0.553377  \n",
       "std      1.066570      0.497414  \n",
       "min     -2.600000      0.000000  \n",
       "25%      0.000000      0.000000  \n",
       "50%      0.600000      1.000000  \n",
       "75%      1.500000      1.000000  \n",
       "max      6.200000      1.000000  "
      ]
     },
     "execution_count": 13,
     "metadata": {},
     "output_type": "execute_result"
    }
   ],
   "source": [
    "df.describe()"
   ]
  },
  {
   "cell_type": "code",
   "execution_count": 3,
   "metadata": {},
   "outputs": [
    {
     "data": {
      "text/plain": [
       "1    0.553377\n",
       "0    0.446623\n",
       "Name: HeartDisease, dtype: float64"
      ]
     },
     "execution_count": 3,
     "metadata": {},
     "output_type": "execute_result"
    }
   ],
   "source": [
    "df['HeartDisease'].value_counts(normalize=True)"
   ]
  },
  {
   "cell_type": "code",
   "execution_count": 4,
   "metadata": {},
   "outputs": [
    {
     "data": {
      "text/plain": [
       "M    0.78976\n",
       "F    0.21024\n",
       "Name: Sex, dtype: float64"
      ]
     },
     "execution_count": 4,
     "metadata": {},
     "output_type": "execute_result"
    }
   ],
   "source": [
    "df['Sex'].value_counts(normalize=True)"
   ]
  },
  {
   "cell_type": "code",
   "execution_count": 5,
   "metadata": {},
   "outputs": [],
   "source": [
    "#some observations from our data\n",
    "#no missing value, \n",
    "#average age 53\n",
    "#79% of population are male\n",
    "#55% has a heart disease"
   ]
  },
  {
   "cell_type": "code",
   "execution_count": 6,
   "metadata": {},
   "outputs": [
    {
     "data": {
      "text/plain": [
       "Age               0\n",
       "Sex               0\n",
       "ChestPainType     0\n",
       "RestingBP         0\n",
       "Cholesterol       0\n",
       "FastingBS         0\n",
       "RestingECG        0\n",
       "MaxHR             0\n",
       "ExerciseAngina    0\n",
       "Oldpeak           0\n",
       "ST_Slope          0\n",
       "HeartDisease      0\n",
       "dtype: int64"
      ]
     },
     "execution_count": 6,
     "metadata": {},
     "output_type": "execute_result"
    }
   ],
   "source": [
    "df.isna().sum()"
   ]
  },
  {
   "cell_type": "code",
   "execution_count": 7,
   "metadata": {},
   "outputs": [],
   "source": [
    "categ_col=['Sex', 'ChestPainType', 'FastingBS', 'RestingECG', 'ExerciseAngina', 'ST_Slope', 'HeartDisease']"
   ]
  },
  {
   "cell_type": "code",
   "execution_count": 15,
   "metadata": {},
   "outputs": [
    {
     "data": {
      "image/png": "[encoded data removed]",
      "text/plain": [
       "<Figure size 640x480 with 1 Axes>"
      ]
     },
     "metadata": {},
     "output_type": "display_data"
    },
    {
     "data": {
      "image/png": "[encoded data removed]",
      "text/plain": [
       "<Figure size 640x480 with 1 Axes>"
      ]
     },
     "metadata": {},
     "output_type": "display_data"
    },
    {
     "data": {
      "image/png": "[encoded data removed]",
      "text/plain": [
       "<Figure size 640x480 with 1 Axes>"
      ]
     },
     "metadata": {},
     "output_type": "display_data"
    },
    {
     "data": {
      "image/png": "[encoded data removed]",
      "text/plain": [
       "<Figure size 640x480 with 1 Axes>"
      ]
     },
     "metadata": {},
     "output_type": "display_data"
    },
    {
     "data": {
      "image/png": "[encoded data removed]",
      "text/plain": [
       "<Figure size 640x480 with 1 Axes>"
      ]
     },
     "metadata": {},
     "output_type": "display_data"
    },
    {
     "data": {
      "image/png": "[encoded data removed]",
      "text/plain": [
       "<Figure size 640x480 with 1 Axes>"
      ]
     },
     "metadata": {},
     "output_type": "display_data"
    },
    {
     "data": {
      "image/png": "[encoded data removed]",
      "text/plain": [
       "<Figure size 640x480 with 1 Axes>"
      ]
     },
     "metadata": {},
     "output_type": "display_data"
    }
   ],
   "source": [
    "for c in categ_col:\n",
    "  df[c].value_counts().plot(kind='bar')\n",
    "  plt.ylim(0,800)\n",
    "  plt.ylabel('Frequency')\n",
    "  plt.title(c)\n",
    "  plt.show()\n"
   ]
  },
  {
   "cell_type": "code",
   "execution_count": 51,
   "metadata": {},
   "outputs": [],
   "source": [
    "categ_col_up=['Sex', 'ChestPainType', 'FastingBS', 'RestingECG', 'ExerciseAngina', 'ST_Slope']"
   ]
  },
  {
   "cell_type": "code",
   "execution_count": 57,
   "metadata": {},
   "outputs": [
    {
     "data": {
      "image/png": "[encoded data removed]",
      "text/plain": [
       "<Figure size 604.361x500 with 1 Axes>"
      ]
     },
     "metadata": {},
     "output_type": "display_data"
    },
    {
     "data": {
      "image/png": "[encoded data removed]",
      "text/plain": [
       "<Figure size 604.361x500 with 1 Axes>"
      ]
     },
     "metadata": {},
     "output_type": "display_data"
    },
    {
     "data": {
      "image/png": "[encoded data removed]",
      "text/plain": [
       "<Figure size 604.361x500 with 1 Axes>"
      ]
     },
     "metadata": {},
     "output_type": "display_data"
    },
    {
     "data": {
      "image/png": "[encoded data removed]",
      "text/plain": [
       "<Figure size 604.361x500 with 1 Axes>"
      ]
     },
     "metadata": {},
     "output_type": "display_data"
    },
    {
     "data": {
      "image/png": "[encoded data removed]",
      "text/plain": [
       "<Figure size 604.361x500 with 1 Axes>"
      ]
     },
     "metadata": {},
     "output_type": "display_data"
    },
    {
     "data": {
      "image/png": "[encoded data removed]",
      "text/plain": [
       "<Figure size 604.361x500 with 1 Axes>"
      ]
     },
     "metadata": {},
     "output_type": "display_data"
    }
   ],
   "source": [
    "for c in categ_col_up:\n",
    "  sns.catplot(data=df, x=c, hue='HeartDisease',  kind='count')\n",
    "  #plt.legend()\n",
    "  plt.ylim(0,500)\n",
    "  plt.ylabel('Frequency')\n",
    "  plt.title(c + ' grouped by HeartDisease')\n",
    "  plt.show()\n"
   ]
  },
  {
   "cell_type": "code",
   "execution_count": 63,
   "metadata": {},
   "outputs": [],
   "source": [
    "M_over50=df[(df['Sex']=='M') & (df['Age']>50)]['HeartDisease'].value_counts(normalize=True)"
   ]
  },
  {
   "cell_type": "code",
   "execution_count": 67,
   "metadata": {},
   "outputs": [
    {
     "data": {
      "text/plain": [
       "Text(0.5, 0, 'Heart Disease')"
      ]
     },
     "execution_count": 67,
     "metadata": {},
     "output_type": "execute_result"
    },
    {
     "data": {
      "image/png": "[encoded data removed]",
      "text/plain": [
       "<Figure size 640x480 with 1 Axes>"
      ]
     },
     "metadata": {},
     "output_type": "display_data"
    }
   ],
   "source": [
    "M_over50.plot(kind='bar')\n",
    "plt.title('Percentage of males over 50 years')\n",
    "plt.xlabel('Heart Disease')"
   ]
  },
  {
   "cell_type": "code",
   "execution_count": 71,
   "metadata": {},
   "outputs": [],
   "source": [
    "HD_per_age=df[df['HeartDisease']==1]['Age']"
   ]
  },
  {
   "cell_type": "code",
   "execution_count": 76,
   "metadata": {},
   "outputs": [
    {
     "data": {
      "text/plain": [
       "count    508.000000\n",
       "mean      55.899606\n",
       "std        8.727056\n",
       "min       31.000000\n",
       "25%       51.000000\n",
       "50%       57.000000\n",
       "75%       62.000000\n",
       "max       77.000000\n",
       "Name: Age, dtype: float64"
      ]
     },
     "execution_count": 76,
     "metadata": {},
     "output_type": "execute_result"
    }
   ],
   "source": [
    "HD_per_age.describe()"
   ]
  },
  {
   "cell_type": "code",
   "execution_count": 82,
   "metadata": {},
   "outputs": [
    {
     "data": {
      "text/plain": [
       "{'whiskers': [<matplotlib.lines.Line2D at 0x7ff7dd6187c0>,\n",
       "  <matplotlib.lines.Line2D at 0x7ff7dd618a90>],\n",
       " 'caps': [<matplotlib.lines.Line2D at 0x7ff7dd618d60>,\n",
       "  <matplotlib.lines.Line2D at 0x7ff7dd619030>],\n",
       " 'boxes': [<matplotlib.lines.Line2D at 0x7ff7dd618610>],\n",
       " 'medians': [<matplotlib.lines.Line2D at 0x7ff7dd619300>],\n",
       " 'fliers': [<matplotlib.lines.Line2D at 0x7ff7dd6195d0>],\n",
       " 'means': []}"
      ]
     },
     "execution_count": 82,
     "metadata": {},
     "output_type": "execute_result"
    },
    {
     "data": {
      "image/png": "[encoded data removed]",
      "text/plain": [
       "<Figure size 640x480 with 1 Axes>"
      ]
     },
     "metadata": {},
     "output_type": "display_data"
    }
   ],
   "source": [
    "plt.boxplot(HD_per_age)\n",
    "#plt.yticks(range(30,80,1))"
   ]
  },
  {
   "cell_type": "code",
   "execution_count": 89,
   "metadata": {},
   "outputs": [
    {
     "data": {
      "text/plain": [
       "1"
      ]
     },
     "execution_count": 89,
     "metadata": {},
     "output_type": "execute_result"
    }
   ],
   "source": [
    "len(df[df['RestingBP']==0])"
   ]
  },
  {
   "cell_type": "code",
   "execution_count": 90,
   "metadata": {},
   "outputs": [],
   "source": [
    "#for this columns we can remove it"
   ]
  },
  {
   "cell_type": "code",
   "execution_count": 224,
   "metadata": {},
   "outputs": [],
   "source": [
    "df=df[df['RestingBP']!=0]"
   ]
  },
  {
   "cell_type": "code",
   "execution_count": 96,
   "metadata": {},
   "outputs": [
    {
     "data": {
      "text/plain": [
       "(917, 12)"
      ]
     },
     "execution_count": 96,
     "metadata": {},
     "output_type": "execute_result"
    }
   ],
   "source": [
    "df.shape"
   ]
  },
  {
   "cell_type": "code",
   "execution_count": 97,
   "metadata": {},
   "outputs": [
    {
     "data": {
      "text/plain": [
       "171"
      ]
     },
     "execution_count": 97,
     "metadata": {},
     "output_type": "execute_result"
    }
   ],
   "source": [
    "len(df[df['Cholesterol']==0])"
   ]
  },
  {
   "cell_type": "code",
   "execution_count": 98,
   "metadata": {},
   "outputs": [],
   "source": [
    "#in thos case we couldn't remove all these rows, we handle it in other ways"
   ]
  },
  {
   "cell_type": "code",
   "execution_count": 101,
   "metadata": {},
   "outputs": [],
   "source": [
    "df_col_nul=df[df['Cholesterol']==0]"
   ]
  },
  {
   "cell_type": "code",
   "execution_count": 102,
   "metadata": {},
   "outputs": [
    {
     "data": {
      "text/html": [
       "<div>\n",
       "<style scoped>\n",
       "    .dataframe tbody tr th:only-of-type {\n",
       "        vertical-align: middle;\n",
       "    }\n",
       "\n",
       "    .dataframe tbody tr th {\n",
       "        vertical-align: top;\n",
       "    }\n",
       "\n",
       "    .dataframe thead th {\n",
       "        text-align: right;\n",
       "    }\n",
       "</style>\n",
       "<table border=\"1\" class=\"dataframe\">\n",
       "  <thead>\n",
       "    <tr style=\"text-align: right;\">\n",
       "      <th></th>\n",
       "      <th>Age</th>\n",
       "      <th>RestingBP</th>\n",
       "      <th>Cholesterol</th>\n",
       "      <th>FastingBS</th>\n",
       "      <th>MaxHR</th>\n",
       "      <th>Oldpeak</th>\n",
       "      <th>HeartDisease</th>\n",
       "    </tr>\n",
       "  </thead>\n",
       "  <tbody>\n",
       "    <tr>\n",
       "      <th>count</th>\n",
       "      <td>171.000000</td>\n",
       "      <td>171.000000</td>\n",
       "      <td>171.0</td>\n",
       "      <td>171.000000</td>\n",
       "      <td>171.000000</td>\n",
       "      <td>171.000000</td>\n",
       "      <td>171.000000</td>\n",
       "    </tr>\n",
       "    <tr>\n",
       "      <th>mean</th>\n",
       "      <td>56.245614</td>\n",
       "      <td>130.438596</td>\n",
       "      <td>0.0</td>\n",
       "      <td>0.520468</td>\n",
       "      <td>121.795322</td>\n",
       "      <td>0.821637</td>\n",
       "      <td>0.883041</td>\n",
       "    </tr>\n",
       "    <tr>\n",
       "      <th>std</th>\n",
       "      <td>8.641107</td>\n",
       "      <td>20.767637</td>\n",
       "      <td>0.0</td>\n",
       "      <td>0.501048</td>\n",
       "      <td>24.103922</td>\n",
       "      <td>1.041407</td>\n",
       "      <td>0.322315</td>\n",
       "    </tr>\n",
       "    <tr>\n",
       "      <th>min</th>\n",
       "      <td>32.000000</td>\n",
       "      <td>80.000000</td>\n",
       "      <td>0.0</td>\n",
       "      <td>0.000000</td>\n",
       "      <td>60.000000</td>\n",
       "      <td>-2.600000</td>\n",
       "      <td>0.000000</td>\n",
       "    </tr>\n",
       "    <tr>\n",
       "      <th>25%</th>\n",
       "      <td>51.500000</td>\n",
       "      <td>115.000000</td>\n",
       "      <td>0.0</td>\n",
       "      <td>0.000000</td>\n",
       "      <td>108.000000</td>\n",
       "      <td>0.000000</td>\n",
       "      <td>1.000000</td>\n",
       "    </tr>\n",
       "    <tr>\n",
       "      <th>50%</th>\n",
       "      <td>58.000000</td>\n",
       "      <td>130.000000</td>\n",
       "      <td>0.0</td>\n",
       "      <td>1.000000</td>\n",
       "      <td>120.000000</td>\n",
       "      <td>0.700000</td>\n",
       "      <td>1.000000</td>\n",
       "    </tr>\n",
       "    <tr>\n",
       "      <th>75%</th>\n",
       "      <td>62.000000</td>\n",
       "      <td>140.000000</td>\n",
       "      <td>0.0</td>\n",
       "      <td>1.000000</td>\n",
       "      <td>138.000000</td>\n",
       "      <td>1.500000</td>\n",
       "      <td>1.000000</td>\n",
       "    </tr>\n",
       "    <tr>\n",
       "      <th>max</th>\n",
       "      <td>74.000000</td>\n",
       "      <td>200.000000</td>\n",
       "      <td>0.0</td>\n",
       "      <td>1.000000</td>\n",
       "      <td>182.000000</td>\n",
       "      <td>3.700000</td>\n",
       "      <td>1.000000</td>\n",
       "    </tr>\n",
       "  </tbody>\n",
       "</table>\n",
       "</div>"
      ],
      "text/plain": [
       "              Age   RestingBP  Cholesterol   FastingBS       MaxHR  \\\n",
       "count  171.000000  171.000000        171.0  171.000000  171.000000   \n",
       "mean    56.245614  130.438596          0.0    0.520468  121.795322   \n",
       "std      8.641107   20.767637          0.0    0.501048   24.103922   \n",
       "min     32.000000   80.000000          0.0    0.000000   60.000000   \n",
       "25%     51.500000  115.000000          0.0    0.000000  108.000000   \n",
       "50%     58.000000  130.000000          0.0    1.000000  120.000000   \n",
       "75%     62.000000  140.000000          0.0    1.000000  138.000000   \n",
       "max     74.000000  200.000000          0.0    1.000000  182.000000   \n",
       "\n",
       "          Oldpeak  HeartDisease  \n",
       "count  171.000000    171.000000  \n",
       "mean     0.821637      0.883041  \n",
       "std      1.041407      0.322315  \n",
       "min     -2.600000      0.000000  \n",
       "25%      0.000000      1.000000  \n",
       "50%      0.700000      1.000000  \n",
       "75%      1.500000      1.000000  \n",
       "max      3.700000      1.000000  "
      ]
     },
     "execution_count": 102,
     "metadata": {},
     "output_type": "execute_result"
    }
   ],
   "source": [
    "df_col_nul.describe()"
   ]
  },
  {
   "cell_type": "code",
   "execution_count": 103,
   "metadata": {},
   "outputs": [],
   "source": [
    "#we grouped by multiple columns"
   ]
  },
  {
   "cell_type": "code",
   "execution_count": 225,
   "metadata": {},
   "outputs": [
    {
     "data": {
      "text/plain": [
       "Sex  ChestPainType  HeartDisease\n",
       "F    ASY            0               248.0\n",
       "                    1               274.0\n",
       "     ATA            0               244.0\n",
       "                    1               299.0\n",
       "     NAP            0               220.0\n",
       "                    1               263.0\n",
       "     TA             0               237.0\n",
       "M    ASY            0               228.0\n",
       "                    1               243.0\n",
       "     ATA            0               227.5\n",
       "                    1               265.0\n",
       "     NAP            0               227.5\n",
       "                    1               229.0\n",
       "     TA             0               213.0\n",
       "                    1               264.0\n",
       "Name: Cholesterol, dtype: float64"
      ]
     },
     "execution_count": 225,
     "metadata": {},
     "output_type": "execute_result"
    }
   ],
   "source": [
    "df[df['Cholesterol']!=0].groupby(['Sex','ChestPainType', 'HeartDisease']).median()['Cholesterol']"
   ]
  },
  {
   "cell_type": "code",
   "execution_count": 113,
   "metadata": {},
   "outputs": [
    {
     "data": {
      "text/plain": [
       "Sex  HeartDisease\n",
       "F    0               238.5\n",
       "     1               275.0\n",
       "M    0               227.0\n",
       "     1               243.0\n",
       "Name: Cholesterol, dtype: float64"
      ]
     },
     "execution_count": 113,
     "metadata": {},
     "output_type": "execute_result"
    }
   ],
   "source": [
    "df[df['Cholesterol']!=0].groupby(['Sex', 'HeartDisease']).median()['Cholesterol']"
   ]
  },
  {
   "cell_type": "code",
   "execution_count": 114,
   "metadata": {},
   "outputs": [],
   "source": [
    "#we choose this 4 categories and fill the median values to the same categorie in the df with cholesterol null"
   ]
  },
  {
   "cell_type": "code",
   "execution_count": 244,
   "metadata": {},
   "outputs": [],
   "source": [
    "new_df=df.copy()"
   ]
  },
  {
   "cell_type": "code",
   "execution_count": 245,
   "metadata": {},
   "outputs": [],
   "source": [
    "med_f0=238.5\n",
    "med_f1=275\n",
    "med_m0=227\n",
    "med_m1=243\n",
    "new_df.loc[(new_df['HeartDisease']==0) & (new_df['Cholesterol']==0) &(df['Sex']=='M'),['Cholesterol'] ]=227\n",
    "new_df.loc[(new_df['HeartDisease']==1) & (new_df['Cholesterol']==0) &(df['Sex']=='M'),['Cholesterol'] ]=243\n",
    "new_df.loc[(new_df['HeartDisease']==0) & (new_df['Cholesterol']==0) &(df['Sex']=='F'),['Cholesterol'] ]=238.5\n",
    "new_df.loc[(new_df['HeartDisease']==1) & (new_df['Cholesterol']==0) &(df['Sex']=='F'),['Cholesterol'] ]=275"
   ]
  },
  {
   "cell_type": "code",
   "execution_count": 228,
   "metadata": {},
   "outputs": [
    {
     "data": {
      "text/html": [
       "<div>\n",
       "<style scoped>\n",
       "    .dataframe tbody tr th:only-of-type {\n",
       "        vertical-align: middle;\n",
       "    }\n",
       "\n",
       "    .dataframe tbody tr th {\n",
       "        vertical-align: top;\n",
       "    }\n",
       "\n",
       "    .dataframe thead th {\n",
       "        text-align: right;\n",
       "    }\n",
       "</style>\n",
       "<table border=\"1\" class=\"dataframe\">\n",
       "  <thead>\n",
       "    <tr style=\"text-align: right;\">\n",
       "      <th></th>\n",
       "      <th>Age</th>\n",
       "      <th>RestingBP</th>\n",
       "      <th>Cholesterol</th>\n",
       "      <th>FastingBS</th>\n",
       "      <th>MaxHR</th>\n",
       "      <th>Oldpeak</th>\n",
       "      <th>HeartDisease</th>\n",
       "    </tr>\n",
       "  </thead>\n",
       "  <tbody>\n",
       "    <tr>\n",
       "      <th>count</th>\n",
       "      <td>917.000000</td>\n",
       "      <td>917.000000</td>\n",
       "      <td>917.000000</td>\n",
       "      <td>917.000000</td>\n",
       "      <td>917.000000</td>\n",
       "      <td>917.000000</td>\n",
       "      <td>917.000000</td>\n",
       "    </tr>\n",
       "    <tr>\n",
       "      <th>mean</th>\n",
       "      <td>53.509269</td>\n",
       "      <td>132.540894</td>\n",
       "      <td>244.342966</td>\n",
       "      <td>0.233370</td>\n",
       "      <td>136.789531</td>\n",
       "      <td>0.886696</td>\n",
       "      <td>0.552890</td>\n",
       "    </tr>\n",
       "    <tr>\n",
       "      <th>std</th>\n",
       "      <td>9.437636</td>\n",
       "      <td>17.999749</td>\n",
       "      <td>53.505136</td>\n",
       "      <td>0.423206</td>\n",
       "      <td>25.467129</td>\n",
       "      <td>1.066960</td>\n",
       "      <td>0.497466</td>\n",
       "    </tr>\n",
       "    <tr>\n",
       "      <th>min</th>\n",
       "      <td>28.000000</td>\n",
       "      <td>80.000000</td>\n",
       "      <td>85.000000</td>\n",
       "      <td>0.000000</td>\n",
       "      <td>60.000000</td>\n",
       "      <td>-2.600000</td>\n",
       "      <td>0.000000</td>\n",
       "    </tr>\n",
       "    <tr>\n",
       "      <th>25%</th>\n",
       "      <td>47.000000</td>\n",
       "      <td>120.000000</td>\n",
       "      <td>214.000000</td>\n",
       "      <td>0.000000</td>\n",
       "      <td>120.000000</td>\n",
       "      <td>0.000000</td>\n",
       "      <td>0.000000</td>\n",
       "    </tr>\n",
       "    <tr>\n",
       "      <th>50%</th>\n",
       "      <td>54.000000</td>\n",
       "      <td>130.000000</td>\n",
       "      <td>243.000000</td>\n",
       "      <td>0.000000</td>\n",
       "      <td>138.000000</td>\n",
       "      <td>0.600000</td>\n",
       "      <td>1.000000</td>\n",
       "    </tr>\n",
       "    <tr>\n",
       "      <th>75%</th>\n",
       "      <td>60.000000</td>\n",
       "      <td>140.000000</td>\n",
       "      <td>269.000000</td>\n",
       "      <td>0.000000</td>\n",
       "      <td>156.000000</td>\n",
       "      <td>1.500000</td>\n",
       "      <td>1.000000</td>\n",
       "    </tr>\n",
       "    <tr>\n",
       "      <th>max</th>\n",
       "      <td>77.000000</td>\n",
       "      <td>200.000000</td>\n",
       "      <td>603.000000</td>\n",
       "      <td>1.000000</td>\n",
       "      <td>202.000000</td>\n",
       "      <td>6.200000</td>\n",
       "      <td>1.000000</td>\n",
       "    </tr>\n",
       "  </tbody>\n",
       "</table>\n",
       "</div>"
      ],
      "text/plain": [
       "              Age   RestingBP  Cholesterol   FastingBS       MaxHR  \\\n",
       "count  917.000000  917.000000   917.000000  917.000000  917.000000   \n",
       "mean    53.509269  132.540894   244.342966    0.233370  136.789531   \n",
       "std      9.437636   17.999749    53.505136    0.423206   25.467129   \n",
       "min     28.000000   80.000000    85.000000    0.000000   60.000000   \n",
       "25%     47.000000  120.000000   214.000000    0.000000  120.000000   \n",
       "50%     54.000000  130.000000   243.000000    0.000000  138.000000   \n",
       "75%     60.000000  140.000000   269.000000    0.000000  156.000000   \n",
       "max     77.000000  200.000000   603.000000    1.000000  202.000000   \n",
       "\n",
       "          Oldpeak  HeartDisease  \n",
       "count  917.000000    917.000000  \n",
       "mean     0.886696      0.552890  \n",
       "std      1.066960      0.497466  \n",
       "min     -2.600000      0.000000  \n",
       "25%      0.000000      0.000000  \n",
       "50%      0.600000      1.000000  \n",
       "75%      1.500000      1.000000  \n",
       "max      6.200000      1.000000  "
      ]
     },
     "execution_count": 228,
     "metadata": {},
     "output_type": "execute_result"
    }
   ],
   "source": [
    "new_df.describe()"
   ]
  },
  {
   "cell_type": "code",
   "execution_count": 188,
   "metadata": {},
   "outputs": [],
   "source": [
    "corr=new_df.corr()"
   ]
  },
  {
   "cell_type": "code",
   "execution_count": 189,
   "metadata": {},
   "outputs": [
    {
     "data": {
      "text/html": [
       "<div>\n",
       "<style scoped>\n",
       "    .dataframe tbody tr th:only-of-type {\n",
       "        vertical-align: middle;\n",
       "    }\n",
       "\n",
       "    .dataframe tbody tr th {\n",
       "        vertical-align: top;\n",
       "    }\n",
       "\n",
       "    .dataframe thead th {\n",
       "        text-align: right;\n",
       "    }\n",
       "</style>\n",
       "<table border=\"1\" class=\"dataframe\">\n",
       "  <thead>\n",
       "    <tr style=\"text-align: right;\">\n",
       "      <th></th>\n",
       "      <th>Age</th>\n",
       "      <th>RestingBP</th>\n",
       "      <th>Cholesterol</th>\n",
       "      <th>FastingBS</th>\n",
       "      <th>MaxHR</th>\n",
       "      <th>Oldpeak</th>\n",
       "      <th>HeartDisease</th>\n",
       "    </tr>\n",
       "  </thead>\n",
       "  <tbody>\n",
       "    <tr>\n",
       "      <th>Age</th>\n",
       "      <td>1.000000</td>\n",
       "      <td>0.263084</td>\n",
       "      <td>0.051002</td>\n",
       "      <td>0.198170</td>\n",
       "      <td>-0.382280</td>\n",
       "      <td>0.258563</td>\n",
       "      <td>0.282012</td>\n",
       "    </tr>\n",
       "    <tr>\n",
       "      <th>RestingBP</th>\n",
       "      <td>0.263084</td>\n",
       "      <td>1.000000</td>\n",
       "      <td>0.085666</td>\n",
       "      <td>0.067823</td>\n",
       "      <td>-0.109693</td>\n",
       "      <td>0.174252</td>\n",
       "      <td>0.117990</td>\n",
       "    </tr>\n",
       "    <tr>\n",
       "      <th>Cholesterol</th>\n",
       "      <td>0.051002</td>\n",
       "      <td>0.085666</td>\n",
       "      <td>1.000000</td>\n",
       "      <td>0.048916</td>\n",
       "      <td>-0.013473</td>\n",
       "      <td>0.053822</td>\n",
       "      <td>0.102912</td>\n",
       "    </tr>\n",
       "    <tr>\n",
       "      <th>FastingBS</th>\n",
       "      <td>0.198170</td>\n",
       "      <td>0.067823</td>\n",
       "      <td>0.048916</td>\n",
       "      <td>1.000000</td>\n",
       "      <td>-0.131067</td>\n",
       "      <td>0.053062</td>\n",
       "      <td>0.267994</td>\n",
       "    </tr>\n",
       "    <tr>\n",
       "      <th>MaxHR</th>\n",
       "      <td>-0.382280</td>\n",
       "      <td>-0.109693</td>\n",
       "      <td>-0.013473</td>\n",
       "      <td>-0.131067</td>\n",
       "      <td>1.000000</td>\n",
       "      <td>-0.161213</td>\n",
       "      <td>-0.401410</td>\n",
       "    </tr>\n",
       "    <tr>\n",
       "      <th>Oldpeak</th>\n",
       "      <td>0.258563</td>\n",
       "      <td>0.174252</td>\n",
       "      <td>0.053822</td>\n",
       "      <td>0.053062</td>\n",
       "      <td>-0.161213</td>\n",
       "      <td>1.000000</td>\n",
       "      <td>0.403638</td>\n",
       "    </tr>\n",
       "    <tr>\n",
       "      <th>HeartDisease</th>\n",
       "      <td>0.282012</td>\n",
       "      <td>0.117990</td>\n",
       "      <td>0.102912</td>\n",
       "      <td>0.267994</td>\n",
       "      <td>-0.401410</td>\n",
       "      <td>0.403638</td>\n",
       "      <td>1.000000</td>\n",
       "    </tr>\n",
       "  </tbody>\n",
       "</table>\n",
       "</div>"
      ],
      "text/plain": [
       "                   Age  RestingBP  Cholesterol  FastingBS     MaxHR   Oldpeak  \\\n",
       "Age           1.000000   0.263084     0.051002   0.198170 -0.382280  0.258563   \n",
       "RestingBP     0.263084   1.000000     0.085666   0.067823 -0.109693  0.174252   \n",
       "Cholesterol   0.051002   0.085666     1.000000   0.048916 -0.013473  0.053822   \n",
       "FastingBS     0.198170   0.067823     0.048916   1.000000 -0.131067  0.053062   \n",
       "MaxHR        -0.382280  -0.109693    -0.013473  -0.131067  1.000000 -0.161213   \n",
       "Oldpeak       0.258563   0.174252     0.053822   0.053062 -0.161213  1.000000   \n",
       "HeartDisease  0.282012   0.117990     0.102912   0.267994 -0.401410  0.403638   \n",
       "\n",
       "              HeartDisease  \n",
       "Age               0.282012  \n",
       "RestingBP         0.117990  \n",
       "Cholesterol       0.102912  \n",
       "FastingBS         0.267994  \n",
       "MaxHR            -0.401410  \n",
       "Oldpeak           0.403638  \n",
       "HeartDisease      1.000000  "
      ]
     },
     "execution_count": 189,
     "metadata": {},
     "output_type": "execute_result"
    }
   ],
   "source": [
    "corr"
   ]
  },
  {
   "cell_type": "code",
   "execution_count": 190,
   "metadata": {},
   "outputs": [],
   "source": [
    "#we see that MaxHR and Oldpeak have a great correlation"
   ]
  },
  {
   "cell_type": "code",
   "execution_count": 246,
   "metadata": {},
   "outputs": [],
   "source": [
    "new_df=pd.get_dummies(data=new_df, columns=['Sex','ChestPainType','RestingECG', 'ExerciseAngina', 'ST_Slope'], drop_first=True)"
   ]
  },
  {
   "cell_type": "code",
   "execution_count": 230,
   "metadata": {},
   "outputs": [
    {
     "data": {
      "text/html": [
       "<div>\n",
       "<style scoped>\n",
       "    .dataframe tbody tr th:only-of-type {\n",
       "        vertical-align: middle;\n",
       "    }\n",
       "\n",
       "    .dataframe tbody tr th {\n",
       "        vertical-align: top;\n",
       "    }\n",
       "\n",
       "    .dataframe thead th {\n",
       "        text-align: right;\n",
       "    }\n",
       "</style>\n",
       "<table border=\"1\" class=\"dataframe\">\n",
       "  <thead>\n",
       "    <tr style=\"text-align: right;\">\n",
       "      <th></th>\n",
       "      <th>Age</th>\n",
       "      <th>RestingBP</th>\n",
       "      <th>Cholesterol</th>\n",
       "      <th>FastingBS</th>\n",
       "      <th>MaxHR</th>\n",
       "      <th>Oldpeak</th>\n",
       "      <th>HeartDisease</th>\n",
       "      <th>Sex_M</th>\n",
       "      <th>ChestPainType_ATA</th>\n",
       "      <th>ChestPainType_NAP</th>\n",
       "      <th>ChestPainType_TA</th>\n",
       "      <th>ExerciseAngina_Y</th>\n",
       "      <th>RestingECG_Normal</th>\n",
       "      <th>RestingECG_ST</th>\n",
       "      <th>ExerciseAngina_Y</th>\n",
       "      <th>ST_Slope_Flat</th>\n",
       "      <th>ST_Slope_Up</th>\n",
       "    </tr>\n",
       "  </thead>\n",
       "  <tbody>\n",
       "    <tr>\n",
       "      <th>Age</th>\n",
       "      <td>1.000000</td>\n",
       "      <td>0.263084</td>\n",
       "      <td>0.051002</td>\n",
       "      <td>0.198170</td>\n",
       "      <td>-0.382280</td>\n",
       "      <td>0.258563</td>\n",
       "      <td>0.282012</td>\n",
       "      <td>0.055670</td>\n",
       "      <td>-0.218113</td>\n",
       "      <td>-0.011681</td>\n",
       "      <td>0.032083</td>\n",
       "      <td>0.216017</td>\n",
       "      <td>-0.230793</td>\n",
       "      <td>0.136903</td>\n",
       "      <td>0.216017</td>\n",
       "      <td>0.185499</td>\n",
       "      <td>-0.258027</td>\n",
       "    </tr>\n",
       "    <tr>\n",
       "      <th>RestingBP</th>\n",
       "      <td>0.263084</td>\n",
       "      <td>1.000000</td>\n",
       "      <td>0.085666</td>\n",
       "      <td>0.067823</td>\n",
       "      <td>-0.109693</td>\n",
       "      <td>0.174252</td>\n",
       "      <td>0.117990</td>\n",
       "      <td>0.009427</td>\n",
       "      <td>-0.051374</td>\n",
       "      <td>-0.027536</td>\n",
       "      <td>0.049464</td>\n",
       "      <td>0.153064</td>\n",
       "      <td>-0.113759</td>\n",
       "      <td>0.089156</td>\n",
       "      <td>0.153064</td>\n",
       "      <td>0.110171</td>\n",
       "      <td>-0.105969</td>\n",
       "    </tr>\n",
       "    <tr>\n",
       "      <th>Cholesterol</th>\n",
       "      <td>0.051002</td>\n",
       "      <td>0.085666</td>\n",
       "      <td>1.000000</td>\n",
       "      <td>0.048916</td>\n",
       "      <td>-0.013473</td>\n",
       "      <td>0.053822</td>\n",
       "      <td>0.102912</td>\n",
       "      <td>-0.119127</td>\n",
       "      <td>-0.015941</td>\n",
       "      <td>-0.066638</td>\n",
       "      <td>-0.043701</td>\n",
       "      <td>0.076814</td>\n",
       "      <td>-0.038330</td>\n",
       "      <td>-0.030371</td>\n",
       "      <td>0.076814</td>\n",
       "      <td>0.095787</td>\n",
       "      <td>-0.092247</td>\n",
       "    </tr>\n",
       "    <tr>\n",
       "      <th>FastingBS</th>\n",
       "      <td>0.198170</td>\n",
       "      <td>0.067823</td>\n",
       "      <td>0.048916</td>\n",
       "      <td>1.000000</td>\n",
       "      <td>-0.131067</td>\n",
       "      <td>0.053062</td>\n",
       "      <td>0.267994</td>\n",
       "      <td>0.120424</td>\n",
       "      <td>-0.140844</td>\n",
       "      <td>-0.038201</td>\n",
       "      <td>0.026752</td>\n",
       "      <td>0.059988</td>\n",
       "      <td>-0.092588</td>\n",
       "      <td>0.126853</td>\n",
       "      <td>0.059988</td>\n",
       "      <td>0.107683</td>\n",
       "      <td>-0.162346</td>\n",
       "    </tr>\n",
       "    <tr>\n",
       "      <th>MaxHR</th>\n",
       "      <td>-0.382280</td>\n",
       "      <td>-0.109693</td>\n",
       "      <td>-0.013473</td>\n",
       "      <td>-0.131067</td>\n",
       "      <td>1.000000</td>\n",
       "      <td>-0.161213</td>\n",
       "      <td>-0.401410</td>\n",
       "      <td>-0.189668</td>\n",
       "      <td>0.254214</td>\n",
       "      <td>0.133411</td>\n",
       "      <td>0.100235</td>\n",
       "      <td>-0.370023</td>\n",
       "      <td>0.023181</td>\n",
       "      <td>-0.157561</td>\n",
       "      <td>-0.370023</td>\n",
       "      <td>-0.343641</td>\n",
       "      <td>0.384339</td>\n",
       "    </tr>\n",
       "    <tr>\n",
       "      <th>Oldpeak</th>\n",
       "      <td>0.258563</td>\n",
       "      <td>0.174252</td>\n",
       "      <td>0.053822</td>\n",
       "      <td>0.053062</td>\n",
       "      <td>-0.161213</td>\n",
       "      <td>1.000000</td>\n",
       "      <td>0.403638</td>\n",
       "      <td>0.105444</td>\n",
       "      <td>-0.261903</td>\n",
       "      <td>-0.107615</td>\n",
       "      <td>0.032382</td>\n",
       "      <td>0.409494</td>\n",
       "      <td>-0.117293</td>\n",
       "      <td>0.056283</td>\n",
       "      <td>0.409494</td>\n",
       "      <td>0.282874</td>\n",
       "      <td>-0.450299</td>\n",
       "    </tr>\n",
       "    <tr>\n",
       "      <th>HeartDisease</th>\n",
       "      <td>0.282012</td>\n",
       "      <td>0.117990</td>\n",
       "      <td>0.102912</td>\n",
       "      <td>0.267994</td>\n",
       "      <td>-0.401410</td>\n",
       "      <td>0.403638</td>\n",
       "      <td>1.000000</td>\n",
       "      <td>0.305118</td>\n",
       "      <td>-0.401680</td>\n",
       "      <td>-0.215311</td>\n",
       "      <td>-0.054591</td>\n",
       "      <td>0.495490</td>\n",
       "      <td>-0.092452</td>\n",
       "      <td>0.103067</td>\n",
       "      <td>0.495490</td>\n",
       "      <td>0.553700</td>\n",
       "      <td>-0.621843</td>\n",
       "    </tr>\n",
       "    <tr>\n",
       "      <th>Sex_M</th>\n",
       "      <td>0.055670</td>\n",
       "      <td>0.009427</td>\n",
       "      <td>-0.119127</td>\n",
       "      <td>0.120424</td>\n",
       "      <td>-0.189668</td>\n",
       "      <td>0.105444</td>\n",
       "      <td>0.305118</td>\n",
       "      <td>1.000000</td>\n",
       "      <td>-0.161294</td>\n",
       "      <td>-0.067682</td>\n",
       "      <td>-0.003903</td>\n",
       "      <td>0.191226</td>\n",
       "      <td>-0.011098</td>\n",
       "      <td>0.064009</td>\n",
       "      <td>0.191226</td>\n",
       "      <td>0.115596</td>\n",
       "      <td>-0.150537</td>\n",
       "    </tr>\n",
       "    <tr>\n",
       "      <th>ChestPainType_ATA</th>\n",
       "      <td>-0.218113</td>\n",
       "      <td>-0.051374</td>\n",
       "      <td>-0.015941</td>\n",
       "      <td>-0.140844</td>\n",
       "      <td>0.254214</td>\n",
       "      <td>-0.261903</td>\n",
       "      <td>-0.401680</td>\n",
       "      <td>-0.161294</td>\n",
       "      <td>1.000000</td>\n",
       "      <td>-0.256306</td>\n",
       "      <td>-0.110817</td>\n",
       "      <td>-0.300947</td>\n",
       "      <td>0.108422</td>\n",
       "      <td>-0.046381</td>\n",
       "      <td>-0.300947</td>\n",
       "      <td>-0.304346</td>\n",
       "      <td>0.357324</td>\n",
       "    </tr>\n",
       "    <tr>\n",
       "      <th>ChestPainType_NAP</th>\n",
       "      <td>-0.011681</td>\n",
       "      <td>-0.027536</td>\n",
       "      <td>-0.066638</td>\n",
       "      <td>-0.038201</td>\n",
       "      <td>0.133411</td>\n",
       "      <td>-0.107615</td>\n",
       "      <td>-0.215311</td>\n",
       "      <td>-0.067682</td>\n",
       "      <td>-0.256306</td>\n",
       "      <td>1.000000</td>\n",
       "      <td>-0.122150</td>\n",
       "      <td>-0.164722</td>\n",
       "      <td>0.003352</td>\n",
       "      <td>-0.041317</td>\n",
       "      <td>-0.164722</td>\n",
       "      <td>-0.074256</td>\n",
       "      <td>0.095585</td>\n",
       "    </tr>\n",
       "    <tr>\n",
       "      <th>ChestPainType_TA</th>\n",
       "      <td>0.032083</td>\n",
       "      <td>0.049464</td>\n",
       "      <td>-0.043701</td>\n",
       "      <td>0.026752</td>\n",
       "      <td>0.100235</td>\n",
       "      <td>0.032382</td>\n",
       "      <td>-0.054591</td>\n",
       "      <td>-0.003903</td>\n",
       "      <td>-0.110817</td>\n",
       "      <td>-0.122150</td>\n",
       "      <td>1.000000</td>\n",
       "      <td>-0.128362</td>\n",
       "      <td>-0.057538</td>\n",
       "      <td>-0.011736</td>\n",
       "      <td>-0.128362</td>\n",
       "      <td>-0.010242</td>\n",
       "      <td>0.001870</td>\n",
       "    </tr>\n",
       "    <tr>\n",
       "      <th>ExerciseAngina_Y</th>\n",
       "      <td>0.216017</td>\n",
       "      <td>0.153064</td>\n",
       "      <td>0.076814</td>\n",
       "      <td>0.059988</td>\n",
       "      <td>-0.370023</td>\n",
       "      <td>0.409494</td>\n",
       "      <td>0.495490</td>\n",
       "      <td>0.191226</td>\n",
       "      <td>-0.300947</td>\n",
       "      <td>-0.164722</td>\n",
       "      <td>-0.128362</td>\n",
       "      <td>1.000000</td>\n",
       "      <td>-0.072246</td>\n",
       "      <td>0.106649</td>\n",
       "      <td>1.000000</td>\n",
       "      <td>0.383483</td>\n",
       "      <td>-0.456814</td>\n",
       "    </tr>\n",
       "    <tr>\n",
       "      <th>RestingECG_Normal</th>\n",
       "      <td>-0.230793</td>\n",
       "      <td>-0.113759</td>\n",
       "      <td>-0.038330</td>\n",
       "      <td>-0.092588</td>\n",
       "      <td>0.023181</td>\n",
       "      <td>-0.117293</td>\n",
       "      <td>-0.092452</td>\n",
       "      <td>-0.011098</td>\n",
       "      <td>0.108422</td>\n",
       "      <td>0.003352</td>\n",
       "      <td>-0.057538</td>\n",
       "      <td>-0.072246</td>\n",
       "      <td>1.000000</td>\n",
       "      <td>-0.602175</td>\n",
       "      <td>-0.072246</td>\n",
       "      <td>-0.048101</td>\n",
       "      <td>0.079396</td>\n",
       "    </tr>\n",
       "    <tr>\n",
       "      <th>RestingECG_ST</th>\n",
       "      <td>0.136903</td>\n",
       "      <td>0.089156</td>\n",
       "      <td>-0.030371</td>\n",
       "      <td>0.126853</td>\n",
       "      <td>-0.157561</td>\n",
       "      <td>0.056283</td>\n",
       "      <td>0.103067</td>\n",
       "      <td>0.064009</td>\n",
       "      <td>-0.046381</td>\n",
       "      <td>-0.041317</td>\n",
       "      <td>-0.011736</td>\n",
       "      <td>0.106649</td>\n",
       "      <td>-0.602175</td>\n",
       "      <td>1.000000</td>\n",
       "      <td>0.106649</td>\n",
       "      <td>0.043580</td>\n",
       "      <td>-0.059433</td>\n",
       "    </tr>\n",
       "    <tr>\n",
       "      <th>ExerciseAngina_Y</th>\n",
       "      <td>0.216017</td>\n",
       "      <td>0.153064</td>\n",
       "      <td>0.076814</td>\n",
       "      <td>0.059988</td>\n",
       "      <td>-0.370023</td>\n",
       "      <td>0.409494</td>\n",
       "      <td>0.495490</td>\n",
       "      <td>0.191226</td>\n",
       "      <td>-0.300947</td>\n",
       "      <td>-0.164722</td>\n",
       "      <td>-0.128362</td>\n",
       "      <td>1.000000</td>\n",
       "      <td>-0.072246</td>\n",
       "      <td>0.106649</td>\n",
       "      <td>1.000000</td>\n",
       "      <td>0.383483</td>\n",
       "      <td>-0.456814</td>\n",
       "    </tr>\n",
       "    <tr>\n",
       "      <th>ST_Slope_Flat</th>\n",
       "      <td>0.185499</td>\n",
       "      <td>0.110171</td>\n",
       "      <td>0.095787</td>\n",
       "      <td>0.107683</td>\n",
       "      <td>-0.343641</td>\n",
       "      <td>0.282874</td>\n",
       "      <td>0.553700</td>\n",
       "      <td>0.115596</td>\n",
       "      <td>-0.304346</td>\n",
       "      <td>-0.074256</td>\n",
       "      <td>-0.010242</td>\n",
       "      <td>0.383483</td>\n",
       "      <td>-0.048101</td>\n",
       "      <td>0.043580</td>\n",
       "      <td>0.383483</td>\n",
       "      <td>1.000000</td>\n",
       "      <td>-0.870837</td>\n",
       "    </tr>\n",
       "    <tr>\n",
       "      <th>ST_Slope_Up</th>\n",
       "      <td>-0.258027</td>\n",
       "      <td>-0.105969</td>\n",
       "      <td>-0.092247</td>\n",
       "      <td>-0.162346</td>\n",
       "      <td>0.384339</td>\n",
       "      <td>-0.450299</td>\n",
       "      <td>-0.621843</td>\n",
       "      <td>-0.150537</td>\n",
       "      <td>0.357324</td>\n",
       "      <td>0.095585</td>\n",
       "      <td>0.001870</td>\n",
       "      <td>-0.456814</td>\n",
       "      <td>0.079396</td>\n",
       "      <td>-0.059433</td>\n",
       "      <td>-0.456814</td>\n",
       "      <td>-0.870837</td>\n",
       "      <td>1.000000</td>\n",
       "    </tr>\n",
       "  </tbody>\n",
       "</table>\n",
       "</div>"
      ],
      "text/plain": [
       "                        Age  RestingBP  Cholesterol  FastingBS     MaxHR  \\\n",
       "Age                1.000000   0.263084     0.051002   0.198170 -0.382280   \n",
       "RestingBP          0.263084   1.000000     0.085666   0.067823 -0.109693   \n",
       "Cholesterol        0.051002   0.085666     1.000000   0.048916 -0.013473   \n",
       "FastingBS          0.198170   0.067823     0.048916   1.000000 -0.131067   \n",
       "MaxHR             -0.382280  -0.109693    -0.013473  -0.131067  1.000000   \n",
       "Oldpeak            0.258563   0.174252     0.053822   0.053062 -0.161213   \n",
       "HeartDisease       0.282012   0.117990     0.102912   0.267994 -0.401410   \n",
       "Sex_M              0.055670   0.009427    -0.119127   0.120424 -0.189668   \n",
       "ChestPainType_ATA -0.218113  -0.051374    -0.015941  -0.140844  0.254214   \n",
       "ChestPainType_NAP -0.011681  -0.027536    -0.066638  -0.038201  0.133411   \n",
       "ChestPainType_TA   0.032083   0.049464    -0.043701   0.026752  0.100235   \n",
       "ExerciseAngina_Y   0.216017   0.153064     0.076814   0.059988 -0.370023   \n",
       "RestingECG_Normal -0.230793  -0.113759    -0.038330  -0.092588  0.023181   \n",
       "RestingECG_ST      0.136903   0.089156    -0.030371   0.126853 -0.157561   \n",
       "ExerciseAngina_Y   0.216017   0.153064     0.076814   0.059988 -0.370023   \n",
       "ST_Slope_Flat      0.185499   0.110171     0.095787   0.107683 -0.343641   \n",
       "ST_Slope_Up       -0.258027  -0.105969    -0.092247  -0.162346  0.384339   \n",
       "\n",
       "                    Oldpeak  HeartDisease     Sex_M  ChestPainType_ATA  \\\n",
       "Age                0.258563      0.282012  0.055670          -0.218113   \n",
       "RestingBP          0.174252      0.117990  0.009427          -0.051374   \n",
       "Cholesterol        0.053822      0.102912 -0.119127          -0.015941   \n",
       "FastingBS          0.053062      0.267994  0.120424          -0.140844   \n",
       "MaxHR             -0.161213     -0.401410 -0.189668           0.254214   \n",
       "Oldpeak            1.000000      0.403638  0.105444          -0.261903   \n",
       "HeartDisease       0.403638      1.000000  0.305118          -0.401680   \n",
       "Sex_M              0.105444      0.305118  1.000000          -0.161294   \n",
       "ChestPainType_ATA -0.261903     -0.401680 -0.161294           1.000000   \n",
       "ChestPainType_NAP -0.107615     -0.215311 -0.067682          -0.256306   \n",
       "ChestPainType_TA   0.032382     -0.054591 -0.003903          -0.110817   \n",
       "ExerciseAngina_Y   0.409494      0.495490  0.191226          -0.300947   \n",
       "RestingECG_Normal -0.117293     -0.092452 -0.011098           0.108422   \n",
       "RestingECG_ST      0.056283      0.103067  0.064009          -0.046381   \n",
       "ExerciseAngina_Y   0.409494      0.495490  0.191226          -0.300947   \n",
       "ST_Slope_Flat      0.282874      0.553700  0.115596          -0.304346   \n",
       "ST_Slope_Up       -0.450299     -0.621843 -0.150537           0.357324   \n",
       "\n",
       "                   ChestPainType_NAP  ChestPainType_TA  ExerciseAngina_Y  \\\n",
       "Age                        -0.011681          0.032083          0.216017   \n",
       "RestingBP                  -0.027536          0.049464          0.153064   \n",
       "Cholesterol                -0.066638         -0.043701          0.076814   \n",
       "FastingBS                  -0.038201          0.026752          0.059988   \n",
       "MaxHR                       0.133411          0.100235         -0.370023   \n",
       "Oldpeak                    -0.107615          0.032382          0.409494   \n",
       "HeartDisease               -0.215311         -0.054591          0.495490   \n",
       "Sex_M                      -0.067682         -0.003903          0.191226   \n",
       "ChestPainType_ATA          -0.256306         -0.110817         -0.300947   \n",
       "ChestPainType_NAP           1.000000         -0.122150         -0.164722   \n",
       "ChestPainType_TA           -0.122150          1.000000         -0.128362   \n",
       "ExerciseAngina_Y           -0.164722         -0.128362          1.000000   \n",
       "RestingECG_Normal           0.003352         -0.057538         -0.072246   \n",
       "RestingECG_ST              -0.041317         -0.011736          0.106649   \n",
       "ExerciseAngina_Y           -0.164722         -0.128362          1.000000   \n",
       "ST_Slope_Flat              -0.074256         -0.010242          0.383483   \n",
       "ST_Slope_Up                 0.095585          0.001870         -0.456814   \n",
       "\n",
       "                   RestingECG_Normal  RestingECG_ST  ExerciseAngina_Y  \\\n",
       "Age                        -0.230793       0.136903          0.216017   \n",
       "RestingBP                  -0.113759       0.089156          0.153064   \n",
       "Cholesterol                -0.038330      -0.030371          0.076814   \n",
       "FastingBS                  -0.092588       0.126853          0.059988   \n",
       "MaxHR                       0.023181      -0.157561         -0.370023   \n",
       "Oldpeak                    -0.117293       0.056283          0.409494   \n",
       "HeartDisease               -0.092452       0.103067          0.495490   \n",
       "Sex_M                      -0.011098       0.064009          0.191226   \n",
       "ChestPainType_ATA           0.108422      -0.046381         -0.300947   \n",
       "ChestPainType_NAP           0.003352      -0.041317         -0.164722   \n",
       "ChestPainType_TA           -0.057538      -0.011736         -0.128362   \n",
       "ExerciseAngina_Y           -0.072246       0.106649          1.000000   \n",
       "RestingECG_Normal           1.000000      -0.602175         -0.072246   \n",
       "RestingECG_ST              -0.602175       1.000000          0.106649   \n",
       "ExerciseAngina_Y           -0.072246       0.106649          1.000000   \n",
       "ST_Slope_Flat              -0.048101       0.043580          0.383483   \n",
       "ST_Slope_Up                 0.079396      -0.059433         -0.456814   \n",
       "\n",
       "                   ST_Slope_Flat  ST_Slope_Up  \n",
       "Age                     0.185499    -0.258027  \n",
       "RestingBP               0.110171    -0.105969  \n",
       "Cholesterol             0.095787    -0.092247  \n",
       "FastingBS               0.107683    -0.162346  \n",
       "MaxHR                  -0.343641     0.384339  \n",
       "Oldpeak                 0.282874    -0.450299  \n",
       "HeartDisease            0.553700    -0.621843  \n",
       "Sex_M                   0.115596    -0.150537  \n",
       "ChestPainType_ATA      -0.304346     0.357324  \n",
       "ChestPainType_NAP      -0.074256     0.095585  \n",
       "ChestPainType_TA       -0.010242     0.001870  \n",
       "ExerciseAngina_Y        0.383483    -0.456814  \n",
       "RestingECG_Normal      -0.048101     0.079396  \n",
       "RestingECG_ST           0.043580    -0.059433  \n",
       "ExerciseAngina_Y        0.383483    -0.456814  \n",
       "ST_Slope_Flat           1.000000    -0.870837  \n",
       "ST_Slope_Up            -0.870837     1.000000  "
      ]
     },
     "execution_count": 230,
     "metadata": {},
     "output_type": "execute_result"
    }
   ],
   "source": [
    "new_df.corr()"
   ]
  },
  {
   "cell_type": "code",
   "execution_count": 199,
   "metadata": {},
   "outputs": [
    {
     "data": {
      "text/plain": [
       "<AxesSubplot:>"
      ]
     },
     "execution_count": 199,
     "metadata": {},
     "output_type": "execute_result"
    },
    {
     "data": {
      "image/png": "[encoded data removed]",
      "text/plain": [
       "<Figure size 640x480 with 2 Axes>"
      ]
     },
     "metadata": {},
     "output_type": "display_data"
    }
   ],
   "source": [
    "sns.heatmap(new_df.corr())"
   ]
  },
  {
   "cell_type": "code",
   "execution_count": 247,
   "metadata": {},
   "outputs": [
    {
     "data": {
      "text/plain": [
       "HeartDisease         1.000000\n",
       "ST_Slope_Flat        0.553700\n",
       "ExerciseAngina_Y     0.495490\n",
       "Oldpeak              0.403638\n",
       "Sex_M                0.305118\n",
       "Age                  0.282012\n",
       "FastingBS            0.267994\n",
       "RestingBP            0.117990\n",
       "RestingECG_ST        0.103067\n",
       "Cholesterol          0.102912\n",
       "ChestPainType_TA    -0.054591\n",
       "RestingECG_Normal   -0.092452\n",
       "ChestPainType_NAP   -0.215311\n",
       "MaxHR               -0.401410\n",
       "ChestPainType_ATA   -0.401680\n",
       "ST_Slope_Up         -0.621843\n",
       "Name: HeartDisease, dtype: float64"
      ]
     },
     "execution_count": 247,
     "metadata": {},
     "output_type": "execute_result"
    }
   ],
   "source": [
    "new_df.corr()['HeartDisease'].sort_values(ascending=False)"
   ]
  },
  {
   "cell_type": "code",
   "execution_count": 214,
   "metadata": {},
   "outputs": [],
   "source": [
    "#new_df.drop('ExerciseAngina_Y', axis=1, inplace=True)"
   ]
  },
  {
   "cell_type": "code",
   "execution_count": 248,
   "metadata": {},
   "outputs": [
    {
     "name": "stdout",
     "output_type": "stream",
     "text": [
      "<class 'pandas.core.frame.DataFrame'>\n",
      "Int64Index: 917 entries, 0 to 917\n",
      "Data columns (total 16 columns):\n",
      " #   Column             Non-Null Count  Dtype  \n",
      "---  ------             --------------  -----  \n",
      " 0   Age                917 non-null    int64  \n",
      " 1   RestingBP          917 non-null    int64  \n",
      " 2   Cholesterol        917 non-null    float64\n",
      " 3   FastingBS          917 non-null    int64  \n",
      " 4   MaxHR              917 non-null    int64  \n",
      " 5   Oldpeak            917 non-null    float64\n",
      " 6   HeartDisease       917 non-null    int64  \n",
      " 7   Sex_M              917 non-null    uint8  \n",
      " 8   ChestPainType_ATA  917 non-null    uint8  \n",
      " 9   ChestPainType_NAP  917 non-null    uint8  \n",
      " 10  ChestPainType_TA   917 non-null    uint8  \n",
      " 11  RestingECG_Normal  917 non-null    uint8  \n",
      " 12  RestingECG_ST      917 non-null    uint8  \n",
      " 13  ExerciseAngina_Y   917 non-null    uint8  \n",
      " 14  ST_Slope_Flat      917 non-null    uint8  \n",
      " 15  ST_Slope_Up        917 non-null    uint8  \n",
      "dtypes: float64(2), int64(5), uint8(9)\n",
      "memory usage: 65.4 KB\n"
     ]
    }
   ],
   "source": [
    "new_df.info()"
   ]
  },
  {
   "cell_type": "code",
   "execution_count": 251,
   "metadata": {},
   "outputs": [],
   "source": [
    "df_select=new_df[['Oldpeak', 'MaxHR', 'ChestPainType_ATA', 'Sex_M', 'ExerciseAngina_Y', 'ST_Slope_Flat', 'ST_Slope_Up', 'HeartDisease']]               "
   ]
  },
  {
   "cell_type": "code",
   "execution_count": 252,
   "metadata": {},
   "outputs": [
    {
     "name": "stdout",
     "output_type": "stream",
     "text": [
      "<class 'pandas.core.frame.DataFrame'>\n",
      "Int64Index: 917 entries, 0 to 917\n",
      "Data columns (total 8 columns):\n",
      " #   Column             Non-Null Count  Dtype  \n",
      "---  ------             --------------  -----  \n",
      " 0   Oldpeak            917 non-null    float64\n",
      " 1   MaxHR              917 non-null    int64  \n",
      " 2   ChestPainType_ATA  917 non-null    uint8  \n",
      " 3   Sex_M              917 non-null    uint8  \n",
      " 4   ExerciseAngina_Y   917 non-null    uint8  \n",
      " 5   ST_Slope_Flat      917 non-null    uint8  \n",
      " 6   ST_Slope_Up        917 non-null    uint8  \n",
      " 7   HeartDisease       917 non-null    int64  \n",
      "dtypes: float64(1), int64(2), uint8(5)\n",
      "memory usage: 33.1 KB\n"
     ]
    }
   ],
   "source": [
    "df_select.info()"
   ]
  },
  {
   "cell_type": "code",
   "execution_count": 254,
   "metadata": {},
   "outputs": [],
   "source": [
    "X=df_select[['Oldpeak', 'MaxHR', 'ChestPainType_ATA', 'Sex_M', 'ExerciseAngina_Y', 'ST_Slope_Flat', 'ST_Slope_Up']]\n",
    "y=df_select['HeartDisease']"
   ]
  },
  {
   "cell_type": "code",
   "execution_count": 256,
   "metadata": {},
   "outputs": [],
   "source": [
    "X_train, X_test, y_train, y_test=train_test_split(X, y , test_size=0.2, random_state=22)"
   ]
  },
  {
   "cell_type": "code",
   "execution_count": 258,
   "metadata": {},
   "outputs": [
    {
     "name": "stdout",
     "output_type": "stream",
     "text": [
      "(733, 7) (184, 7) (733,) (184,)\n"
     ]
    }
   ],
   "source": [
    "print(X_train.shape, X_test.shape, y_train.shape, y_test.shape)"
   ]
  },
  {
   "cell_type": "code",
   "execution_count": 259,
   "metadata": {},
   "outputs": [],
   "source": [
    "feature=['Oldpeak', 'MaxHR', 'ChestPainType_ATA', 'Sex_M', 'ExerciseAngina_Y', 'ST_Slope_Flat', 'ST_Slope_Up']"
   ]
  },
  {
   "cell_type": "code",
   "execution_count": 269,
   "metadata": {},
   "outputs": [],
   "source": [
    "import numpy as np"
   ]
  },
  {
   "cell_type": "code",
   "execution_count": 274,
   "metadata": {},
   "outputs": [
    {
     "name": "stdout",
     "output_type": "stream",
     "text": [
      "Oldpeak 0.6793478260869565\n",
      "MaxHR 0.625\n",
      "ChestPainType_ATA 0.42391304347826086\n",
      "Sex_M 0.42391304347826086\n",
      "ExerciseAngina_Y 0.7228260869565217\n",
      "ST_Slope_Flat 0.7010869565217391\n",
      "ST_Slope_Up 0.7771739130434783\n"
     ]
    }
   ],
   "source": [
    "for f in feature:\n",
    "    model=KNeighborsClassifier(10)\n",
    "    model.fit(np.array(X_train[f]).reshape(-1,1),y_train)\n",
    "    y_pred=model.predict(np.array(X_test[f]).reshape(-1,1))\n",
    "    acc=accuracy_score(y_test, y_pred)\n",
    "    print(f, acc)\n",
    "    "
   ]
  },
  {
   "cell_type": "code",
   "execution_count": 276,
   "metadata": {},
   "outputs": [],
   "source": [
    "#ST_Slope Up and Flat have the best model, also ExerciceAngina with 0.72 accuracy\n",
    "#Sex_M and ChestPainType clearly underperforming our model with accuracy less than 0.5"
   ]
  },
  {
   "cell_type": "code",
   "execution_count": 277,
   "metadata": {},
   "outputs": [],
   "source": [
    "#we change the knn parameters and see if there is a big difference"
   ]
  },
  {
   "cell_type": "code",
   "execution_count": 292,
   "metadata": {},
   "outputs": [
    {
     "name": "stdout",
     "output_type": "stream",
     "text": [
      "Oldpeak 0.6684782608695652\n",
      "MaxHR 0.6195652173913043\n",
      "ChestPainType_ATA 0.7010869565217391\n",
      "Sex_M 0.6467391304347826\n",
      "ExerciseAngina_Y 0.7228260869565217\n",
      "ST_Slope_Flat 0.7010869565217391\n",
      "ST_Slope_Up 0.42391304347826086\n"
     ]
    }
   ],
   "source": [
    "for f in feature:\n",
    "    model=KNeighborsClassifier(3)\n",
    "    model.fit(np.array(X_train[f]).reshape(-1,1),y_train)\n",
    "    y_pred=model.predict(np.array(X_test[f]).reshape(-1,1))\n",
    "    acc=accuracy_score(y_test, y_pred)\n",
    "    print(f, acc)"
   ]
  },
  {
   "cell_type": "code",
   "execution_count": 285,
   "metadata": {},
   "outputs": [
    {
     "data": {
      "text/plain": [
       "27.073972741361768"
      ]
     },
     "execution_count": 285,
     "metadata": {},
     "output_type": "execute_result"
    }
   ],
   "source": [
    "len(X_train)**(1/2)"
   ]
  },
  {
   "cell_type": "code",
   "execution_count": 293,
   "metadata": {},
   "outputs": [],
   "source": [
    "#let's scale our ata with minmaxscaler"
   ]
  },
  {
   "cell_type": "code",
   "execution_count": 294,
   "metadata": {},
   "outputs": [],
   "source": [
    "from sklearn.preprocessing import MinMaxScaler"
   ]
  },
  {
   "cell_type": "code",
   "execution_count": 295,
   "metadata": {},
   "outputs": [],
   "source": [
    "scaler=MinMaxScaler()\n",
    "X_train_S=scaler.fit_transform(X_train)\n",
    "X_test_S=scaler.transform(X_test)"
   ]
  },
  {
   "cell_type": "code",
   "execution_count": 306,
   "metadata": {},
   "outputs": [
    {
     "name": "stdout",
     "output_type": "stream",
     "text": [
      "5 0.7989130434782609\n",
      "6 0.8097826086956522\n",
      "7 0.8043478260869565\n",
      "8 0.7934782608695652\n",
      "9 0.8097826086956522\n",
      "10 0.8043478260869565\n",
      "11 0.8152173913043478\n",
      "12 0.8152173913043478\n",
      "13 0.8206521739130435\n",
      "14 0.8206521739130435\n",
      "15 0.8152173913043478\n",
      "16 0.8152173913043478\n",
      "17 0.8260869565217391\n",
      "18 0.8260869565217391\n",
      "19 0.8260869565217391\n",
      "20 0.8369565217391305\n",
      "21 0.8260869565217391\n",
      "22 0.8315217391304348\n",
      "23 0.8315217391304348\n",
      "24 0.8315217391304348\n",
      "25 0.8315217391304348\n",
      "26 0.8315217391304348\n",
      "27 0.8315217391304348\n",
      "28 0.8260869565217391\n",
      "29 0.8369565217391305\n",
      "30 0.8315217391304348\n",
      "31 0.8260869565217391\n",
      "32 0.8260869565217391\n",
      "33 0.8152173913043478\n",
      "34 0.8097826086956522\n",
      "35 0.8043478260869565\n",
      "36 0.8043478260869565\n",
      "37 0.8043478260869565\n",
      "38 0.8043478260869565\n",
      "39 0.8043478260869565\n",
      "40 0.8043478260869565\n",
      "41 0.8097826086956522\n",
      "42 0.8097826086956522\n",
      "43 0.8206521739130435\n",
      "44 0.8206521739130435\n",
      "45 0.8097826086956522\n",
      "46 0.8152173913043478\n",
      "47 0.8043478260869565\n",
      "48 0.8043478260869565\n",
      "49 0.8043478260869565\n",
      "50 0.7934782608695652\n",
      "51 0.7934782608695652\n",
      "52 0.7934782608695652\n",
      "53 0.7934782608695652\n",
      "54 0.7934782608695652\n",
      "55 0.7934782608695652\n",
      "56 0.7934782608695652\n",
      "57 0.7934782608695652\n",
      "58 0.7934782608695652\n",
      "59 0.7934782608695652\n",
      "60 0.7880434782608695\n",
      "61 0.7880434782608695\n",
      "62 0.7880434782608695\n",
      "63 0.7880434782608695\n",
      "64 0.7880434782608695\n",
      "65 0.7880434782608695\n",
      "66 0.7880434782608695\n",
      "67 0.7880434782608695\n",
      "68 0.7880434782608695\n",
      "69 0.7880434782608695\n",
      "70 0.7880434782608695\n",
      "71 0.7880434782608695\n",
      "72 0.7880434782608695\n",
      "73 0.7880434782608695\n",
      "74 0.7880434782608695\n",
      "75 0.7880434782608695\n",
      "76 0.7880434782608695\n",
      "77 0.7880434782608695\n",
      "78 0.7880434782608695\n",
      "79 0.7880434782608695\n",
      "80 0.7880434782608695\n",
      "81 0.7880434782608695\n",
      "82 0.7880434782608695\n",
      "83 0.7880434782608695\n",
      "84 0.782608695652174\n",
      "85 0.7880434782608695\n",
      "86 0.782608695652174\n",
      "87 0.782608695652174\n",
      "88 0.7771739130434783\n",
      "89 0.7771739130434783\n",
      "90 0.7771739130434783\n",
      "91 0.7771739130434783\n",
      "92 0.782608695652174\n",
      "93 0.782608695652174\n",
      "94 0.782608695652174\n",
      "95 0.7771739130434783\n",
      "96 0.7717391304347826\n",
      "97 0.7717391304347826\n",
      "98 0.7771739130434783\n",
      "99 0.7771739130434783\n"
     ]
    }
   ],
   "source": [
    "for k in range(5,100):\n",
    "    knn=KNeighborsClassifier(k)\n",
    "    knn.fit(X_train_S, y_train)\n",
    "    y_pred=knn.predict(X_test_S)\n",
    "    print(k, accuracy_score(y_test, y_pred))"
   ]
  },
  {
   "cell_type": "code",
   "execution_count": 308,
   "metadata": {},
   "outputs": [],
   "source": [
    "#we have a 83,6% with k=29"
   ]
  },
  {
   "cell_type": "code",
   "execution_count": 309,
   "metadata": {},
   "outputs": [],
   "source": [
    "#n this section we try tuning hyperparameter by using GridSearchCV method"
   ]
  },
  {
   "cell_type": "code",
   "execution_count": 310,
   "metadata": {},
   "outputs": [],
   "source": [
    "X_train, X_test, y_train, y_test =train_test_split(X, y, test_size=0.2, random_state=11)"
   ]
  },
  {
   "cell_type": "code",
   "execution_count": 311,
   "metadata": {},
   "outputs": [],
   "source": [
    "X_train_scaled=scaler.transform(X_train)"
   ]
  },
  {
   "cell_type": "code",
   "execution_count": 314,
   "metadata": {},
   "outputs": [],
   "source": [
    "param={'n_neighbors':list(range(5,30)), 'weights':['uniform', 'distance'] }"
   ]
  },
  {
   "cell_type": "code",
   "execution_count": 315,
   "metadata": {},
   "outputs": [],
   "source": [
    "knn=KNeighborsClassifier()"
   ]
  },
  {
   "cell_type": "code",
   "execution_count": 316,
   "metadata": {},
   "outputs": [],
   "source": [
    "grid=GridSearchCV(knn, param, cv=10, scoring='accuracy')"
   ]
  },
  {
   "cell_type": "code",
   "execution_count": 317,
   "metadata": {},
   "outputs": [
    {
     "data": {
      "text/html": [
       "<style>#sk-container-id-1 {color: black;background-color: white;}#sk-container-id-1 pre{padding: 0;}#sk-container-id-1 div.sk-toggleable {background-color: white;}#sk-container-id-1 label.sk-toggleable__label {cursor: pointer;display: block;width: 100%;margin-bottom: 0;padding: 0.3em;box-sizing: border-box;text-align: center;}#sk-container-id-1 label.sk-toggleable__label-arrow:before {content: \"▸\";float: left;margin-right: 0.25em;color: #696969;}#sk-container-id-1 label.sk-toggleable__label-arrow:hover:before {color: black;}#sk-container-id-1 div.sk-estimator:hover label.sk-toggleable__label-arrow:before {color: black;}#sk-container-id-1 div.sk-toggleable__content {max-height: 0;max-width: 0;overflow: hidden;text-align: left;background-color: #f0f8ff;}#sk-container-id-1 div.sk-toggleable__content pre {margin: 0.2em;color: black;border-radius: 0.25em;background-color: #f0f8ff;}#sk-container-id-1 input.sk-toggleable__control:checked~div.sk-toggleable__content {max-height: 200px;max-width: 100%;overflow: auto;}#sk-container-id-1 input.sk-toggleable__control:checked~label.sk-toggleable__label-arrow:before {content: \"▾\";}#sk-container-id-1 div.sk-estimator input.sk-toggleable__control:checked~label.sk-toggleable__label {background-color: #d4ebff;}#sk-container-id-1 div.sk-label input.sk-toggleable__control:checked~label.sk-toggleable__label {background-color: #d4ebff;}#sk-container-id-1 input.sk-hidden--visually {border: 0;clip: rect(1px 1px 1px 1px);clip: rect(1px, 1px, 1px, 1px);height: 1px;margin: -1px;overflow: hidden;padding: 0;position: absolute;width: 1px;}#sk-container-id-1 div.sk-estimator {font-family: monospace;background-color: #f0f8ff;border: 1px dotted black;border-radius: 0.25em;box-sizing: border-box;margin-bottom: 0.5em;}#sk-container-id-1 div.sk-estimator:hover {background-color: #d4ebff;}#sk-container-id-1 div.sk-parallel-item::after {content: \"\";width: 100%;border-bottom: 1px solid gray;flex-grow: 1;}#sk-container-id-1 div.sk-label:hover label.sk-toggleable__label {background-color: #d4ebff;}#sk-container-id-1 div.sk-serial::before {content: \"\";position: absolute;border-left: 1px solid gray;box-sizing: border-box;top: 0;bottom: 0;left: 50%;z-index: 0;}#sk-container-id-1 div.sk-serial {display: flex;flex-direction: column;align-items: center;background-color: white;padding-right: 0.2em;padding-left: 0.2em;position: relative;}#sk-container-id-1 div.sk-item {position: relative;z-index: 1;}#sk-container-id-1 div.sk-parallel {display: flex;align-items: stretch;justify-content: center;background-color: white;position: relative;}#sk-container-id-1 div.sk-item::before, #sk-container-id-1 div.sk-parallel-item::before {content: \"\";position: absolute;border-left: 1px solid gray;box-sizing: border-box;top: 0;bottom: 0;left: 50%;z-index: -1;}#sk-container-id-1 div.sk-parallel-item {display: flex;flex-direction: column;z-index: 1;position: relative;background-color: white;}#sk-container-id-1 div.sk-parallel-item:first-child::after {align-self: flex-end;width: 50%;}#sk-container-id-1 div.sk-parallel-item:last-child::after {align-self: flex-start;width: 50%;}#sk-container-id-1 div.sk-parallel-item:only-child::after {width: 0;}#sk-container-id-1 div.sk-dashed-wrapped {border: 1px dashed gray;margin: 0 0.4em 0.5em 0.4em;box-sizing: border-box;padding-bottom: 0.4em;background-color: white;}#sk-container-id-1 div.sk-label label {font-family: monospace;font-weight: bold;display: inline-block;line-height: 1.2em;}#sk-container-id-1 div.sk-label-container {text-align: center;}#sk-container-id-1 div.sk-container {/* jupyter's `normalize.less` sets `[hidden] { display: none; }` but bootstrap.min.css set `[hidden] { display: none !important; }` so we also need the `!important` here to be able to override the default hidden behavior on the sphinx rendered scikit-learn.org. See: https://github.com/scikit-learn/scikit-learn/issues/21755 */display: inline-block !important;position: relative;}#sk-container-id-1 div.sk-text-repr-fallback {display: none;}</style><div id=\"sk-container-id-1\" class=\"sk-top-container\"><div class=\"sk-text-repr-fallback\"><pre>GridSearchCV(cv=10, estimator=KNeighborsClassifier(),\n",
       "             param_grid={&#x27;n_neighbors&#x27;: [5, 6, 7, 8, 9, 10, 11, 12, 13, 14, 15,\n",
       "                                         16, 17, 18, 19, 20, 21, 22, 23, 24, 25,\n",
       "                                         26, 27, 28, 29],\n",
       "                         &#x27;weights&#x27;: [&#x27;uniform&#x27;, &#x27;distance&#x27;]},\n",
       "             scoring=&#x27;accuracy&#x27;)</pre><b>In a Jupyter environment, please rerun this cell to show the HTML representation or trust the notebook. <br />On GitHub, the HTML representation is unable to render, please try loading this page with nbviewer.org.</b></div><div class=\"sk-container\" hidden><div class=\"sk-item sk-dashed-wrapped\"><div class=\"sk-label-container\"><div class=\"sk-label sk-toggleable\"><input class=\"sk-toggleable__control sk-hidden--visually\" id=\"sk-estimator-id-1\" type=\"checkbox\" ><label for=\"sk-estimator-id-1\" class=\"sk-toggleable__label sk-toggleable__label-arrow\">GridSearchCV</label><div class=\"sk-toggleable__content\"><pre>GridSearchCV(cv=10, estimator=KNeighborsClassifier(),\n",
       "             param_grid={&#x27;n_neighbors&#x27;: [5, 6, 7, 8, 9, 10, 11, 12, 13, 14, 15,\n",
       "                                         16, 17, 18, 19, 20, 21, 22, 23, 24, 25,\n",
       "                                         26, 27, 28, 29],\n",
       "                         &#x27;weights&#x27;: [&#x27;uniform&#x27;, &#x27;distance&#x27;]},\n",
       "             scoring=&#x27;accuracy&#x27;)</pre></div></div></div><div class=\"sk-parallel\"><div class=\"sk-parallel-item\"><div class=\"sk-item\"><div class=\"sk-label-container\"><div class=\"sk-label sk-toggleable\"><input class=\"sk-toggleable__control sk-hidden--visually\" id=\"sk-estimator-id-2\" type=\"checkbox\" ><label for=\"sk-estimator-id-2\" class=\"sk-toggleable__label sk-toggleable__label-arrow\">estimator: KNeighborsClassifier</label><div class=\"sk-toggleable__content\"><pre>KNeighborsClassifier()</pre></div></div></div><div class=\"sk-serial\"><div class=\"sk-item\"><div class=\"sk-estimator sk-toggleable\"><input class=\"sk-toggleable__control sk-hidden--visually\" id=\"sk-estimator-id-3\" type=\"checkbox\" ><label for=\"sk-estimator-id-3\" class=\"sk-toggleable__label sk-toggleable__label-arrow\">KNeighborsClassifier</label><div class=\"sk-toggleable__content\"><pre>KNeighborsClassifier()</pre></div></div></div></div></div></div></div></div></div></div>"
      ],
      "text/plain": [
       "GridSearchCV(cv=10, estimator=KNeighborsClassifier(),\n",
       "             param_grid={'n_neighbors': [5, 6, 7, 8, 9, 10, 11, 12, 13, 14, 15,\n",
       "                                         16, 17, 18, 19, 20, 21, 22, 23, 24, 25,\n",
       "                                         26, 27, 28, 29],\n",
       "                         'weights': ['uniform', 'distance']},\n",
       "             scoring='accuracy')"
      ]
     },
     "execution_count": 317,
     "metadata": {},
     "output_type": "execute_result"
    }
   ],
   "source": [
    "grid.fit(X_train_scaled, y_train)"
   ]
  },
  {
   "cell_type": "code",
   "execution_count": 319,
   "metadata": {},
   "outputs": [
    {
     "name": "stdout",
     "output_type": "stream",
     "text": [
      "0.8634950018511661\n",
      "{'n_neighbors': 21, 'weights': 'uniform'}\n",
      "KNeighborsClassifier(n_neighbors=21)\n"
     ]
    }
   ],
   "source": [
    "print(grid.best_score_)\n",
    "print(grid.best_params_)\n",
    "print(grid.best_estimator_)"
   ]
  },
  {
   "cell_type": "code",
   "execution_count": 327,
   "metadata": {},
   "outputs": [
    {
     "name": "stdout",
     "output_type": "stream",
     "text": [
      "<class 'pandas.core.frame.DataFrame'>\n",
      "RangeIndex: 50 entries, 0 to 49\n",
      "Data columns (total 20 columns):\n",
      " #   Column             Non-Null Count  Dtype  \n",
      "---  ------             --------------  -----  \n",
      " 0   mean_fit_time      50 non-null     float64\n",
      " 1   std_fit_time       50 non-null     float64\n",
      " 2   mean_score_time    50 non-null     float64\n",
      " 3   std_score_time     50 non-null     float64\n",
      " 4   param_n_neighbors  50 non-null     object \n",
      " 5   param_weights      50 non-null     object \n",
      " 6   params             50 non-null     object \n",
      " 7   split0_test_score  50 non-null     float64\n",
      " 8   split1_test_score  50 non-null     float64\n",
      " 9   split2_test_score  50 non-null     float64\n",
      " 10  split3_test_score  50 non-null     float64\n",
      " 11  split4_test_score  50 non-null     float64\n",
      " 12  split5_test_score  50 non-null     float64\n",
      " 13  split6_test_score  50 non-null     float64\n",
      " 14  split7_test_score  50 non-null     float64\n",
      " 15  split8_test_score  50 non-null     float64\n",
      " 16  split9_test_score  50 non-null     float64\n",
      " 17  mean_test_score    50 non-null     float64\n",
      " 18  std_test_score     50 non-null     float64\n",
      " 19  rank_test_score    50 non-null     int32  \n",
      "dtypes: float64(16), int32(1), object(3)\n",
      "memory usage: 7.7+ KB\n"
     ]
    }
   ],
   "source": [
    "pd.DataFrame(grid.cv_results_).info()"
   ]
  },
  {
   "cell_type": "code",
   "execution_count": 328,
   "metadata": {},
   "outputs": [],
   "source": [
    "#we perform our model the best model given by gridsearch has accuracy 86%"
   ]
  },
  {
   "cell_type": "code",
   "execution_count": 329,
   "metadata": {},
   "outputs": [],
   "source": [
    "#we finalize ou project by evaluating on test set"
   ]
  },
  {
   "cell_type": "code",
   "execution_count": 330,
   "metadata": {},
   "outputs": [],
   "source": [
    "X_test_scaled=scaler.transform(X_test)"
   ]
  },
  {
   "cell_type": "code",
   "execution_count": 331,
   "metadata": {},
   "outputs": [],
   "source": [
    "y_pred=grid.best_estimator_.predict(X_test_scaled)"
   ]
  },
  {
   "cell_type": "code",
   "execution_count": 332,
   "metadata": {},
   "outputs": [
    {
     "name": "stdout",
     "output_type": "stream",
     "text": [
      "0.782608695652174\n"
     ]
    }
   ],
   "source": [
    "acc_test=accuracy_score(y_test, y_pred)\n",
    "print(acc)"
   ]
  },
  {
   "cell_type": "code",
   "execution_count": 333,
   "metadata": {},
   "outputs": [
    {
     "name": "stdout",
     "output_type": "stream",
     "text": [
      "0.8622100954979536\n"
     ]
    }
   ],
   "source": [
    "acc_train=accuracy_score(y_train, grid.best_estimator_.predict(X_train_scaled))\n",
    "print(acc_train)"
   ]
  },
  {
   "cell_type": "code",
   "execution_count": null,
   "metadata": {},
   "outputs": [],
   "source": [
    "# the accuracy for the train set is higher than that of the test"
   ]
  }
 ],
 "metadata": {
  "kernelspec": {
   "display_name": "Python 3 (ipykernel)",
   "language": "python",
   "name": "python3"
  },
  "language_info": {
   "codemirror_mode": {
    "name": "ipython",
    "version": 3
   },
   "file_extension": ".py",
   "mimetype": "text/x-python",
   "name": "python",
   "nbconvert_exporter": "python",
   "pygments_lexer": "ipython3",
   "version": "3.10.6"
  }
 },
 "nbformat": 4,
 "nbformat_minor": 4
}
